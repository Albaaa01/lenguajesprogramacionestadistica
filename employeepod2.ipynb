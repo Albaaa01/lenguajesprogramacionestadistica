{
 "cells": [
  {
   "cell_type": "markdown",
   "id": "f974ad06",
   "metadata": {},
   "source": [
    "ALBA Mª LAGUNA MORALEDA\n",
    "\n",
    "RAÚL VALLVERDÚ ESTEBÁN"
   ]
  },
  {
   "cell_type": "code",
   "execution_count": 858,
   "id": "b310ac80",
   "metadata": {},
   "outputs": [],
   "source": [
    "import findspark\n",
    "findspark.init()\n",
    "from pyspark import SparkConf \n",
    "from pyspark import SparkContext as sc\n",
    "from pyspark.sql import SparkSession\n",
    "from pyspark.sql import Row\n",
    "from pyspark.sql import functions as F\n",
    "from pyspark.sql import SparkSession\n",
    "from pyspark.sql.types import *\n",
    "import matplotlib.pyplot as plt\n",
    "import six\n",
    "import seaborn as sns\n",
    "sns.set(color_codes=True)\n",
    "import numpy as np\n",
    "import pandas as pd\n",
    "from pyspark.ml import Pipeline\n",
    "from pyspark.ml.classification import RandomForestClassifier\n",
    "from pyspark.ml.feature import VectorAssembler, SQLTransformer\n",
    "from pyspark.ml.evaluation import MulticlassClassificationEvaluator, BinaryClassificationEvaluator\n",
    "from pyspark.ml.tuning import CrossValidator, ParamGridBuilder\n",
    "from pyspark.sql.functions import col,sum"
   ]
  },
  {
   "cell_type": "code",
   "execution_count": 859,
   "id": "94425b5d",
   "metadata": {},
   "outputs": [],
   "source": [
    "import pandas as pd  \n",
    "import numpy as np  \n",
    "import matplotlib.pyplot as plt \n",
    "from sklearn.impute import SimpleImputer\n",
    "from sklearn.preprocessing import OneHotEncoder, StandardScaler, OrdinalEncoder, MinMaxScaler\n",
    "from sklearn.compose import make_column_transformer, ColumnTransformer\n",
    "from sklearn.pipeline import Pipeline\n",
    "import pickle\n",
    "import seaborn as sns\n",
    "import copy"
   ]
  },
  {
   "cell_type": "markdown",
   "id": "31743635",
   "metadata": {},
   "source": [
    "**<center><span style=\"font-family:Cooper Black; font-size:3em;color:darkblue\">PROYECTO OPEN DATA II</span> </center>**"
   ]
  },
  {
   "cell_type": "code",
   "execution_count": 860,
   "id": "df8bb3d0",
   "metadata": {},
   "outputs": [],
   "source": [
    "spark = SparkSession.builder.master(\"local[*]\").getOrCreate()"
   ]
  },
  {
   "cell_type": "code",
   "execution_count": 861,
   "id": "f2365a28",
   "metadata": {},
   "outputs": [],
   "source": [
    "import pyspark.sql.types as typ\n",
    "import pandas as pd"
   ]
  },
  {
   "cell_type": "markdown",
   "id": "3dc2c15b",
   "metadata": {},
   "source": [
    "<span style=\"font-family:Comic Sans MS; font-size:14;color:black\">Una vez creada la sesión de Spark, procedemos a crear nuestro Schema con las variables del dataset elegido y con el respectivo tipo de dato de cada una de las variables</span>\n"
   ]
  },
  {
   "cell_type": "code",
   "execution_count": 862,
   "id": "22867f82",
   "metadata": {},
   "outputs": [],
   "source": [
    "labels = [\n",
    "    ('Education', typ.StringType()),\n",
    "    ('JoiningYear', typ.IntegerType()),\n",
    "    ('City', typ.StringType()),\n",
    "    ('PaymentTier', typ.IntegerType()),\n",
    "    ('Age', typ.IntegerType()),\n",
    "    ('Gender', typ.StringType()),\n",
    "    ('EverBenched', typ.StringType()),\n",
    "    ('ExperienceInCurrentDomain', typ.StringType()),\n",
    "    ('Leave', typ.StringType()),\n",
    "]\n",
    "\n",
    "schema = typ.StructType([\n",
    "    typ.StructField(e[0], e[1], False) for e in labels\n",
    "])\n"
   ]
  },
  {
   "cell_type": "markdown",
   "id": "4e07b581",
   "metadata": {},
   "source": [
    "<span style=\"font-family:Comic Sans MS; font-size:14;color:black\">Importamos y mostramos el dataset con el que posteriormente vamos a trabajar. Nuestra variable objetivo en este caso es Leave y es en este caso de clasificación binaria</span>\n"
   ]
  },
  {
   "cell_type": "code",
   "execution_count": 863,
   "id": "9a17ac73",
   "metadata": {},
   "outputs": [
    {
     "name": "stdout",
     "output_type": "stream",
     "text": [
      "+---------+-----------+---------+-----------+---+------+-----------+-------------------------+-----+\n",
      "|Education|JoiningYear|     City|PaymentTier|Age|Gender|EverBenched|ExperienceInCurrentDomain|Leave|\n",
      "+---------+-----------+---------+-----------+---+------+-----------+-------------------------+-----+\n",
      "|Bachelors|       2017|Bangalore|          3| 34|  Male|         No|                        0|    0|\n",
      "|Bachelors|       2013|     Pune|          1| 28|Female|         No|                        3|    1|\n",
      "|Bachelors|       2014|New Delhi|          3| 38|Female|         No|                        2|    0|\n",
      "|  Masters|       2016|Bangalore|          3| 27|  Male|         No|                        5|    1|\n",
      "|  Masters|       2017|     Pune|          3| 24|  Male|        Yes|                        2|    1|\n",
      "|Bachelors|       2016|Bangalore|          3| 22|  Male|         No|                        0|    0|\n",
      "|Bachelors|       2015|New Delhi|          3| 38|  Male|         No|                        0|    0|\n",
      "|Bachelors|       2016|Bangalore|          3| 34|Female|         No|                        2|    1|\n",
      "|Bachelors|       2016|     Pune|          3| 23|  Male|         No|                        1|    0|\n",
      "|  Masters|       2017|New Delhi|          2| 37|  Male|         No|                        2|    0|\n",
      "|  Masters|       2012|Bangalore|          3| 27|  Male|         No|                        5|    1|\n",
      "|Bachelors|       2016|     Pune|          3| 34|  Male|         No|                        3|    0|\n",
      "|Bachelors|       2018|     Pune|          3| 32|  Male|        Yes|                        5|    1|\n",
      "|Bachelors|       2016|Bangalore|          3| 39|  Male|         No|                        2|    0|\n",
      "|Bachelors|       2012|Bangalore|          3| 37|  Male|         No|                        4|    0|\n",
      "|Bachelors|       2017|Bangalore|          1| 29|  Male|         No|                        3|    0|\n",
      "|Bachelors|       2014|Bangalore|          3| 34|Female|         No|                        2|    0|\n",
      "|Bachelors|       2014|     Pune|          3| 34|  Male|         No|                        4|    0|\n",
      "|Bachelors|       2015|     Pune|          2| 30|Female|         No|                        0|    1|\n",
      "|Bachelors|       2016|New Delhi|          2| 22|Female|         No|                        0|    1|\n",
      "+---------+-----------+---------+-----------+---+------+-----------+-------------------------+-----+\n",
      "only showing top 20 rows\n",
      "\n"
     ]
    }
   ],
   "source": [
    "df=spark.read.schema(schema).options(delimiter=',', header='True').csv('Employee')\n",
    "df.show()"
   ]
  },
  {
   "cell_type": "markdown",
   "id": "6998b44f",
   "metadata": {},
   "source": [
    "<span style=\"font-family:Comic Sans MS; font-size:14;color:black\">Comprobamos que nuestro dataset se ha leído correctamente</span>\n"
   ]
  },
  {
   "cell_type": "code",
   "execution_count": 864,
   "id": "e9aa6f1b",
   "metadata": {},
   "outputs": [
    {
     "data": {
      "text/html": [
       "<div>\n",
       "<style scoped>\n",
       "    .dataframe tbody tr th:only-of-type {\n",
       "        vertical-align: middle;\n",
       "    }\n",
       "\n",
       "    .dataframe tbody tr th {\n",
       "        vertical-align: top;\n",
       "    }\n",
       "\n",
       "    .dataframe thead th {\n",
       "        text-align: right;\n",
       "    }\n",
       "</style>\n",
       "<table border=\"1\" class=\"dataframe\">\n",
       "  <thead>\n",
       "    <tr style=\"text-align: right;\">\n",
       "      <th></th>\n",
       "      <th>Education</th>\n",
       "      <th>JoiningYear</th>\n",
       "      <th>City</th>\n",
       "      <th>PaymentTier</th>\n",
       "      <th>Age</th>\n",
       "      <th>Gender</th>\n",
       "      <th>EverBenched</th>\n",
       "      <th>ExperienceInCurrentDomain</th>\n",
       "      <th>Leave</th>\n",
       "    </tr>\n",
       "  </thead>\n",
       "  <tbody>\n",
       "    <tr>\n",
       "      <th>0</th>\n",
       "      <td>Bachelors</td>\n",
       "      <td>2017</td>\n",
       "      <td>Bangalore</td>\n",
       "      <td>3</td>\n",
       "      <td>34</td>\n",
       "      <td>Male</td>\n",
       "      <td>No</td>\n",
       "      <td>0</td>\n",
       "      <td>0</td>\n",
       "    </tr>\n",
       "    <tr>\n",
       "      <th>1</th>\n",
       "      <td>Bachelors</td>\n",
       "      <td>2013</td>\n",
       "      <td>Pune</td>\n",
       "      <td>1</td>\n",
       "      <td>28</td>\n",
       "      <td>Female</td>\n",
       "      <td>No</td>\n",
       "      <td>3</td>\n",
       "      <td>1</td>\n",
       "    </tr>\n",
       "    <tr>\n",
       "      <th>2</th>\n",
       "      <td>Bachelors</td>\n",
       "      <td>2014</td>\n",
       "      <td>New Delhi</td>\n",
       "      <td>3</td>\n",
       "      <td>38</td>\n",
       "      <td>Female</td>\n",
       "      <td>No</td>\n",
       "      <td>2</td>\n",
       "      <td>0</td>\n",
       "    </tr>\n",
       "    <tr>\n",
       "      <th>3</th>\n",
       "      <td>Masters</td>\n",
       "      <td>2016</td>\n",
       "      <td>Bangalore</td>\n",
       "      <td>3</td>\n",
       "      <td>27</td>\n",
       "      <td>Male</td>\n",
       "      <td>No</td>\n",
       "      <td>5</td>\n",
       "      <td>1</td>\n",
       "    </tr>\n",
       "    <tr>\n",
       "      <th>4</th>\n",
       "      <td>Masters</td>\n",
       "      <td>2017</td>\n",
       "      <td>Pune</td>\n",
       "      <td>3</td>\n",
       "      <td>24</td>\n",
       "      <td>Male</td>\n",
       "      <td>Yes</td>\n",
       "      <td>2</td>\n",
       "      <td>1</td>\n",
       "    </tr>\n",
       "  </tbody>\n",
       "</table>\n",
       "</div>"
      ],
      "text/plain": [
       "   Education  JoiningYear       City  PaymentTier  Age  Gender EverBenched  \\\n",
       "0  Bachelors         2017  Bangalore            3   34    Male          No   \n",
       "1  Bachelors         2013       Pune            1   28  Female          No   \n",
       "2  Bachelors         2014  New Delhi            3   38  Female          No   \n",
       "3    Masters         2016  Bangalore            3   27    Male          No   \n",
       "4    Masters         2017       Pune            3   24    Male         Yes   \n",
       "\n",
       "  ExperienceInCurrentDomain Leave  \n",
       "0                         0     0  \n",
       "1                         3     1  \n",
       "2                         2     0  \n",
       "3                         5     1  \n",
       "4                         2     1  "
      ]
     },
     "execution_count": 864,
     "metadata": {},
     "output_type": "execute_result"
    }
   ],
   "source": [
    "df.toPandas().head()"
   ]
  },
  {
   "cell_type": "markdown",
   "id": "83d5e2f7",
   "metadata": {},
   "source": [
    "<span style=\"font-family:Comic Sans MS; font-size:14;color:black\">Comprobamos si hay algún valor nulo, que en nuestro caso como se puede ver no hay ninguno</span>\n",
    "\n"
   ]
  },
  {
   "cell_type": "code",
   "execution_count": 865,
   "id": "a8d00389",
   "metadata": {},
   "outputs": [
    {
     "data": {
      "text/html": [
       "<div>\n",
       "<style scoped>\n",
       "    .dataframe tbody tr th:only-of-type {\n",
       "        vertical-align: middle;\n",
       "    }\n",
       "\n",
       "    .dataframe tbody tr th {\n",
       "        vertical-align: top;\n",
       "    }\n",
       "\n",
       "    .dataframe thead th {\n",
       "        text-align: right;\n",
       "    }\n",
       "</style>\n",
       "<table border=\"1\" class=\"dataframe\">\n",
       "  <thead>\n",
       "    <tr style=\"text-align: right;\">\n",
       "      <th></th>\n",
       "      <th>Education</th>\n",
       "      <th>JoiningYear</th>\n",
       "      <th>City</th>\n",
       "      <th>PaymentTier</th>\n",
       "      <th>Age</th>\n",
       "      <th>Gender</th>\n",
       "      <th>EverBenched</th>\n",
       "      <th>ExperienceInCurrentDomain</th>\n",
       "      <th>Leave</th>\n",
       "    </tr>\n",
       "  </thead>\n",
       "  <tbody>\n",
       "    <tr>\n",
       "      <th>0</th>\n",
       "      <td>0</td>\n",
       "      <td>0</td>\n",
       "      <td>0</td>\n",
       "      <td>0</td>\n",
       "      <td>0</td>\n",
       "      <td>0</td>\n",
       "      <td>0</td>\n",
       "      <td>0</td>\n",
       "      <td>0</td>\n",
       "    </tr>\n",
       "  </tbody>\n",
       "</table>\n",
       "</div>"
      ],
      "text/plain": [
       "   Education  JoiningYear  City  PaymentTier  Age  Gender  EverBenched  \\\n",
       "0          0            0     0            0    0       0            0   \n",
       "\n",
       "   ExperienceInCurrentDomain  Leave  \n",
       "0                          0      0  "
      ]
     },
     "execution_count": 865,
     "metadata": {},
     "output_type": "execute_result"
    }
   ],
   "source": [
    "df_null = df.select(*(F.sum(F.col(c).isNull().cast('Integer')).alias(c) for c in df.columns)).toPandas()\n",
    "df_null"
   ]
  },
  {
   "cell_type": "markdown",
   "id": "e834702b",
   "metadata": {},
   "source": [
    "<span style=\"font-family:Comic Sans MS; font-size:14;color:black\">A continuación, vemos que tipo de dato pertenece a cada variable para posteriormente adecuarlas todas a las necesidades del modelo</span>\n"
   ]
  },
  {
   "cell_type": "code",
   "execution_count": 866,
   "id": "4abead32",
   "metadata": {},
   "outputs": [
    {
     "data": {
      "text/plain": [
       "[('Education', 'string'),\n",
       " ('JoiningYear', 'int'),\n",
       " ('City', 'string'),\n",
       " ('PaymentTier', 'int'),\n",
       " ('Age', 'int'),\n",
       " ('Gender', 'string'),\n",
       " ('EverBenched', 'string'),\n",
       " ('ExperienceInCurrentDomain', 'string'),\n",
       " ('Leave', 'string')]"
      ]
     },
     "execution_count": 866,
     "metadata": {},
     "output_type": "execute_result"
    }
   ],
   "source": [
    "df.dtypes"
   ]
  },
  {
   "cell_type": "markdown",
   "id": "cbf6e78a",
   "metadata": {},
   "source": [
    "<span style=\"font-family:Comic Sans MS; font-size:14;color:black\">En la siguiente celda lo que comprobamos es el numero total de datos que tiene nuestro dataset</span>\n"
   ]
  },
  {
   "cell_type": "code",
   "execution_count": 867,
   "id": "48759525",
   "metadata": {},
   "outputs": [
    {
     "data": {
      "text/plain": [
       "4653"
      ]
     },
     "execution_count": 867,
     "metadata": {},
     "output_type": "execute_result"
    }
   ],
   "source": [
    "df.count()"
   ]
  },
  {
   "cell_type": "code",
   "execution_count": 868,
   "id": "d93971b3",
   "metadata": {},
   "outputs": [],
   "source": [
    "import pyspark.ml.feature as ft\n",
    "import pyspark.sql.types as typ\n",
    "import pandas as pd\n",
    "from pyspark.ml.feature import StringIndexer"
   ]
  },
  {
   "cell_type": "markdown",
   "id": "860e3dc9",
   "metadata": {},
   "source": [
    "<span style=\"font-family:Comic Sans MS; font-size:14;color:black\">Aplicamos el StringIndexer a las variables de tipo string de nuestro dataset </span>\n",
    "\n"
   ]
  },
  {
   "cell_type": "code",
   "execution_count": 869,
   "id": "ac3d42ec",
   "metadata": {},
   "outputs": [],
   "source": [
    "\n",
    "indexers = [StringIndexer(inputCol=column, outputCol=column+\"_index\").fit(df) for column in ['Gender','EverBenched','Education','ExperienceInCurrentDomain','Leave'] ]\n",
    "\n"
   ]
  },
  {
   "cell_type": "markdown",
   "id": "c916f392",
   "metadata": {},
   "source": [
    "<span style=\"font-family:Comic Sans MS; font-size:14;color:black\">En la siguiente celda mostramos como a partir del stringindexer y el pipeline hemos cambiado las variables string a tipo numérico </span>\n"
   ]
  },
  {
   "cell_type": "code",
   "execution_count": 870,
   "id": "74f6b3ac",
   "metadata": {},
   "outputs": [
    {
     "name": "stdout",
     "output_type": "stream",
     "text": [
      "+---------+-----------+---------+-----------+---+------+-----------+-------------------------+-----+------------+-----------------+---------------+-------------------------------+-----------+\n",
      "|Education|JoiningYear|     City|PaymentTier|Age|Gender|EverBenched|ExperienceInCurrentDomain|Leave|Gender_index|EverBenched_index|Education_index|ExperienceInCurrentDomain_index|Leave_index|\n",
      "+---------+-----------+---------+-----------+---+------+-----------+-------------------------+-----+------------+-----------------+---------------+-------------------------------+-----------+\n",
      "|Bachelors|       2017|Bangalore|          3| 34|  Male|         No|                        0|    0|         0.0|              0.0|            0.0|                            5.0|        0.0|\n",
      "|Bachelors|       2013|     Pune|          1| 28|Female|         No|                        3|    1|         1.0|              0.0|            0.0|                            3.0|        1.0|\n",
      "|Bachelors|       2014|New Delhi|          3| 38|Female|         No|                        2|    0|         1.0|              0.0|            0.0|                            0.0|        0.0|\n",
      "|  Masters|       2016|Bangalore|          3| 27|  Male|         No|                        5|    1|         0.0|              0.0|            1.0|                            2.0|        1.0|\n",
      "|  Masters|       2017|     Pune|          3| 24|  Male|        Yes|                        2|    1|         0.0|              1.0|            1.0|                            0.0|        1.0|\n",
      "|Bachelors|       2016|Bangalore|          3| 22|  Male|         No|                        0|    0|         0.0|              0.0|            0.0|                            5.0|        0.0|\n",
      "|Bachelors|       2015|New Delhi|          3| 38|  Male|         No|                        0|    0|         0.0|              0.0|            0.0|                            5.0|        0.0|\n",
      "|Bachelors|       2016|Bangalore|          3| 34|Female|         No|                        2|    1|         1.0|              0.0|            0.0|                            0.0|        1.0|\n",
      "|Bachelors|       2016|     Pune|          3| 23|  Male|         No|                        1|    0|         0.0|              0.0|            0.0|                            4.0|        0.0|\n",
      "|  Masters|       2017|New Delhi|          2| 37|  Male|         No|                        2|    0|         0.0|              0.0|            1.0|                            0.0|        0.0|\n",
      "|  Masters|       2012|Bangalore|          3| 27|  Male|         No|                        5|    1|         0.0|              0.0|            1.0|                            2.0|        1.0|\n",
      "|Bachelors|       2016|     Pune|          3| 34|  Male|         No|                        3|    0|         0.0|              0.0|            0.0|                            3.0|        0.0|\n",
      "|Bachelors|       2018|     Pune|          3| 32|  Male|        Yes|                        5|    1|         0.0|              1.0|            0.0|                            2.0|        1.0|\n",
      "|Bachelors|       2016|Bangalore|          3| 39|  Male|         No|                        2|    0|         0.0|              0.0|            0.0|                            0.0|        0.0|\n",
      "|Bachelors|       2012|Bangalore|          3| 37|  Male|         No|                        4|    0|         0.0|              0.0|            0.0|                            1.0|        0.0|\n",
      "|Bachelors|       2017|Bangalore|          1| 29|  Male|         No|                        3|    0|         0.0|              0.0|            0.0|                            3.0|        0.0|\n",
      "|Bachelors|       2014|Bangalore|          3| 34|Female|         No|                        2|    0|         1.0|              0.0|            0.0|                            0.0|        0.0|\n",
      "|Bachelors|       2014|     Pune|          3| 34|  Male|         No|                        4|    0|         0.0|              0.0|            0.0|                            1.0|        0.0|\n",
      "|Bachelors|       2015|     Pune|          2| 30|Female|         No|                        0|    1|         1.0|              0.0|            0.0|                            5.0|        1.0|\n",
      "|Bachelors|       2016|New Delhi|          2| 22|Female|         No|                        0|    1|         1.0|              0.0|            0.0|                            5.0|        1.0|\n",
      "+---------+-----------+---------+-----------+---+------+-----------+-------------------------+-----+------------+-----------------+---------------+-------------------------------+-----------+\n",
      "only showing top 20 rows\n",
      "\n"
     ]
    }
   ],
   "source": [
    "from pyspark.ml import Pipeline\n",
    "\n",
    "pipeline = Pipeline(stages=indexers)\n",
    "df2 = pipeline.fit(df).transform(df)\n",
    "\n",
    "df2.show() "
   ]
  },
  {
   "cell_type": "markdown",
   "id": "427aff50",
   "metadata": {},
   "source": [
    "<span style=\"font-family:Comic Sans MS; font-size:14;color:black\">Procedemos a borrar las columnas que anteriormente estaban con el tipo de dato String y que ya hemos transformado </span>\n",
    "\n"
   ]
  },
  {
   "cell_type": "code",
   "execution_count": 871,
   "id": "fbd3e878",
   "metadata": {},
   "outputs": [
    {
     "name": "stdout",
     "output_type": "stream",
     "text": [
      "+-----------+---------+-----------+---+------------+-----------------+---------------+-------------------------------+-----------+\n",
      "|JoiningYear|     City|PaymentTier|Age|Gender_index|EverBenched_index|Education_index|ExperienceInCurrentDomain_index|Leave_index|\n",
      "+-----------+---------+-----------+---+------------+-----------------+---------------+-------------------------------+-----------+\n",
      "|       2017|Bangalore|          3| 34|         0.0|              0.0|            0.0|                            5.0|        0.0|\n",
      "|       2013|     Pune|          1| 28|         1.0|              0.0|            0.0|                            3.0|        1.0|\n",
      "|       2014|New Delhi|          3| 38|         1.0|              0.0|            0.0|                            0.0|        0.0|\n",
      "|       2016|Bangalore|          3| 27|         0.0|              0.0|            1.0|                            2.0|        1.0|\n",
      "|       2017|     Pune|          3| 24|         0.0|              1.0|            1.0|                            0.0|        1.0|\n",
      "|       2016|Bangalore|          3| 22|         0.0|              0.0|            0.0|                            5.0|        0.0|\n",
      "|       2015|New Delhi|          3| 38|         0.0|              0.0|            0.0|                            5.0|        0.0|\n",
      "|       2016|Bangalore|          3| 34|         1.0|              0.0|            0.0|                            0.0|        1.0|\n",
      "|       2016|     Pune|          3| 23|         0.0|              0.0|            0.0|                            4.0|        0.0|\n",
      "|       2017|New Delhi|          2| 37|         0.0|              0.0|            1.0|                            0.0|        0.0|\n",
      "|       2012|Bangalore|          3| 27|         0.0|              0.0|            1.0|                            2.0|        1.0|\n",
      "|       2016|     Pune|          3| 34|         0.0|              0.0|            0.0|                            3.0|        0.0|\n",
      "|       2018|     Pune|          3| 32|         0.0|              1.0|            0.0|                            2.0|        1.0|\n",
      "|       2016|Bangalore|          3| 39|         0.0|              0.0|            0.0|                            0.0|        0.0|\n",
      "|       2012|Bangalore|          3| 37|         0.0|              0.0|            0.0|                            1.0|        0.0|\n",
      "|       2017|Bangalore|          1| 29|         0.0|              0.0|            0.0|                            3.0|        0.0|\n",
      "|       2014|Bangalore|          3| 34|         1.0|              0.0|            0.0|                            0.0|        0.0|\n",
      "|       2014|     Pune|          3| 34|         0.0|              0.0|            0.0|                            1.0|        0.0|\n",
      "|       2015|     Pune|          2| 30|         1.0|              0.0|            0.0|                            5.0|        1.0|\n",
      "|       2016|New Delhi|          2| 22|         1.0|              0.0|            0.0|                            5.0|        1.0|\n",
      "+-----------+---------+-----------+---+------------+-----------------+---------------+-------------------------------+-----------+\n",
      "only showing top 20 rows\n",
      "\n"
     ]
    }
   ],
   "source": [
    "df2 = df2.drop('Gender')\n",
    "df2 = df2.drop('EverBenched')\n",
    "df2 = df2.drop('Education')\n",
    "df2= df2.drop('ExperienceInCurrentDomain')\n",
    "df2= df2.drop('Leave')\n",
    "df2.show()"
   ]
  },
  {
   "cell_type": "markdown",
   "id": "d5efc36f",
   "metadata": {},
   "source": [
    "<span style=\"font-family:Comic Sans MS; font-size:14;color:black\">Como se puede observar en la siguiente celda todos los datos que tenemos ahora son de tipo numérico</span>\n"
   ]
  },
  {
   "cell_type": "code",
   "execution_count": 872,
   "id": "003b62f1",
   "metadata": {},
   "outputs": [
    {
     "data": {
      "text/plain": [
       "[('JoiningYear', 'int'),\n",
       " ('City', 'string'),\n",
       " ('PaymentTier', 'int'),\n",
       " ('Age', 'int'),\n",
       " ('Gender_index', 'double'),\n",
       " ('EverBenched_index', 'double'),\n",
       " ('Education_index', 'double'),\n",
       " ('ExperienceInCurrentDomain_index', 'double'),\n",
       " ('Leave_index', 'double')]"
      ]
     },
     "execution_count": 872,
     "metadata": {},
     "output_type": "execute_result"
    }
   ],
   "source": [
    "df2.dtypes\n",
    "\n"
   ]
  },
  {
   "cell_type": "markdown",
   "id": "655d6d9a",
   "metadata": {},
   "source": [
    "<span style=\"font-family:Comic Sans MS; font-size:14;color:black\">El VectorAssembler se encarga de transformar una columna dada(imputCol) en una columna de vectores(OutputCol)</span>\n"
   ]
  },
  {
   "cell_type": "code",
   "execution_count": 873,
   "id": "ab23a876",
   "metadata": {},
   "outputs": [],
   "source": [
    "featuresCreator = ft.VectorAssembler(\n",
    "    inputCols=['JoiningYear',\n",
    "                    'PaymentTier',\n",
    "                    'Age',\n",
    "                    'ExperienceInCurrentDomain_index',\n",
    "                     'Gender_index',\n",
    "                     'EverBenched_index',\n",
    "                     'Education_index',\n",
    "                     ],\n",
    "    outputCol='features'\n",
    ")"
   ]
  },
  {
   "cell_type": "code",
   "execution_count": 874,
   "id": "ffdd4274",
   "metadata": {
    "scrolled": true
   },
   "outputs": [
    {
     "name": "stdout",
     "output_type": "stream",
     "text": [
      "+-----------+---------+-----------+---+------------+-----------------+---------------+-------------------------------+-----------+--------------------+\n",
      "|JoiningYear|     City|PaymentTier|Age|Gender_index|EverBenched_index|Education_index|ExperienceInCurrentDomain_index|Leave_index|            features|\n",
      "+-----------+---------+-----------+---+------------+-----------------+---------------+-------------------------------+-----------+--------------------+\n",
      "|       2017|Bangalore|          3| 34|         0.0|              0.0|            0.0|                            5.0|        0.0|[2017.0,3.0,34.0,...|\n",
      "|       2013|     Pune|          1| 28|         1.0|              0.0|            0.0|                            3.0|        1.0|[2013.0,1.0,28.0,...|\n",
      "|       2014|New Delhi|          3| 38|         1.0|              0.0|            0.0|                            0.0|        0.0|[2014.0,3.0,38.0,...|\n",
      "|       2016|Bangalore|          3| 27|         0.0|              0.0|            1.0|                            2.0|        1.0|[2016.0,3.0,27.0,...|\n",
      "|       2017|     Pune|          3| 24|         0.0|              1.0|            1.0|                            0.0|        1.0|[2017.0,3.0,24.0,...|\n",
      "|       2016|Bangalore|          3| 22|         0.0|              0.0|            0.0|                            5.0|        0.0|[2016.0,3.0,22.0,...|\n",
      "|       2015|New Delhi|          3| 38|         0.0|              0.0|            0.0|                            5.0|        0.0|[2015.0,3.0,38.0,...|\n",
      "|       2016|Bangalore|          3| 34|         1.0|              0.0|            0.0|                            0.0|        1.0|[2016.0,3.0,34.0,...|\n",
      "|       2016|     Pune|          3| 23|         0.0|              0.0|            0.0|                            4.0|        0.0|[2016.0,3.0,23.0,...|\n",
      "|       2017|New Delhi|          2| 37|         0.0|              0.0|            1.0|                            0.0|        0.0|[2017.0,2.0,37.0,...|\n",
      "|       2012|Bangalore|          3| 27|         0.0|              0.0|            1.0|                            2.0|        1.0|[2012.0,3.0,27.0,...|\n",
      "|       2016|     Pune|          3| 34|         0.0|              0.0|            0.0|                            3.0|        0.0|[2016.0,3.0,34.0,...|\n",
      "|       2018|     Pune|          3| 32|         0.0|              1.0|            0.0|                            2.0|        1.0|[2018.0,3.0,32.0,...|\n",
      "|       2016|Bangalore|          3| 39|         0.0|              0.0|            0.0|                            0.0|        0.0|(7,[0,1,2],[2016....|\n",
      "|       2012|Bangalore|          3| 37|         0.0|              0.0|            0.0|                            1.0|        0.0|[2012.0,3.0,37.0,...|\n",
      "|       2017|Bangalore|          1| 29|         0.0|              0.0|            0.0|                            3.0|        0.0|[2017.0,1.0,29.0,...|\n",
      "|       2014|Bangalore|          3| 34|         1.0|              0.0|            0.0|                            0.0|        0.0|[2014.0,3.0,34.0,...|\n",
      "|       2014|     Pune|          3| 34|         0.0|              0.0|            0.0|                            1.0|        0.0|[2014.0,3.0,34.0,...|\n",
      "|       2015|     Pune|          2| 30|         1.0|              0.0|            0.0|                            5.0|        1.0|[2015.0,2.0,30.0,...|\n",
      "|       2016|New Delhi|          2| 22|         1.0|              0.0|            0.0|                            5.0|        1.0|[2016.0,2.0,22.0,...|\n",
      "+-----------+---------+-----------+---+------------+-----------------+---------------+-------------------------------+-----------+--------------------+\n",
      "only showing top 20 rows\n",
      "\n"
     ]
    }
   ],
   "source": [
    "df3 = featuresCreator.transform(df2)\n",
    "df3.show()"
   ]
  },
  {
   "cell_type": "markdown",
   "id": "e5fc08e6",
   "metadata": {},
   "source": [
    "<span style=\"font-family:Comic Sans MS; font-size:14;color:black\">Dividimos el dataset en train y test, donde el 80% de los datos se van al subconjunto train y el 20% al subconjunto test</span>\n"
   ]
  },
  {
   "cell_type": "code",
   "execution_count": 875,
   "id": "e1f66c0b",
   "metadata": {},
   "outputs": [],
   "source": [
    "df3_train, df3_test = df3 \\\n",
    "    .randomSplit([0.8, 0.2],seed=666)"
   ]
  },
  {
   "cell_type": "code",
   "execution_count": 876,
   "id": "f3fbd75b",
   "metadata": {},
   "outputs": [],
   "source": [
    "model = pipeline.fit(df3_train)"
   ]
  },
  {
   "cell_type": "code",
   "execution_count": 877,
   "id": "9c14f4e2",
   "metadata": {},
   "outputs": [],
   "source": [
    "test_model = model.transform(df3_test)"
   ]
  },
  {
   "cell_type": "code",
   "execution_count": 878,
   "id": "46e50a6d",
   "metadata": {},
   "outputs": [
    {
     "name": "stdout",
     "output_type": "stream",
     "text": [
      "+-----------+---------+-----------+---+------------+-----------------+---------------+-------------------------------+-----------+--------------------+\n",
      "|JoiningYear|     City|PaymentTier|Age|Gender_index|EverBenched_index|Education_index|ExperienceInCurrentDomain_index|Leave_index|            features|\n",
      "+-----------+---------+-----------+---+------------+-----------------+---------------+-------------------------------+-----------+--------------------+\n",
      "|       2012|Bangalore|          1| 27|         0.0|              0.0|            0.0|                            2.0|        0.0|[2012.0,1.0,27.0,...|\n",
      "|       2012|Bangalore|          1| 27|         0.0|              0.0|            0.0|                            2.0|        1.0|[2012.0,1.0,27.0,...|\n",
      "|       2012|Bangalore|          1| 27|         1.0|              0.0|            0.0|                            2.0|        0.0|[2012.0,1.0,27.0,...|\n",
      "|       2012|Bangalore|          1| 27|         1.0|              0.0|            0.0|                            2.0|        0.0|[2012.0,1.0,27.0,...|\n",
      "|       2012|Bangalore|          1| 28|         0.0|              0.0|            0.0|                            3.0|        0.0|[2012.0,1.0,28.0,...|\n",
      "|       2012|Bangalore|          1| 28|         1.0|              0.0|            0.0|                            3.0|        0.0|[2012.0,1.0,28.0,...|\n",
      "|       2012|Bangalore|          1| 28|         1.0|              1.0|            0.0|                            4.0|        0.0|[2012.0,1.0,28.0,...|\n",
      "|       2012|Bangalore|          1| 30|         1.0|              0.0|            0.0|                            0.0|        0.0|[2012.0,1.0,30.0,...|\n",
      "|       2012|Bangalore|          1| 30|         1.0|              0.0|            0.0|                            5.0|        0.0|[2012.0,1.0,30.0,...|\n",
      "|       2012|Bangalore|          1| 32|         0.0|              0.0|            0.0|                            4.0|        1.0|[2012.0,1.0,32.0,...|\n",
      "|       2012|Bangalore|          1| 34|         0.0|              0.0|            0.0|                            5.0|        0.0|[2012.0,1.0,34.0,...|\n",
      "|       2012|Bangalore|          1| 35|         0.0|              0.0|            0.0|                            1.0|        0.0|[2012.0,1.0,35.0,...|\n",
      "|       2012|Bangalore|          1| 35|         0.0|              0.0|            0.0|                            6.0|        0.0|[2012.0,1.0,35.0,...|\n",
      "|       2012|Bangalore|          1| 36|         0.0|              0.0|            0.0|                            3.0|        0.0|[2012.0,1.0,36.0,...|\n",
      "|       2012|Bangalore|          1| 38|         0.0|              0.0|            2.0|                            2.0|        0.0|[2012.0,1.0,38.0,...|\n",
      "|       2012|Bangalore|          1| 38|         1.0|              0.0|            0.0|                            4.0|        0.0|[2012.0,1.0,38.0,...|\n",
      "|       2012|Bangalore|          2| 27|         1.0|              0.0|            0.0|                            2.0|        1.0|[2012.0,2.0,27.0,...|\n",
      "|       2012|Bangalore|          2| 32|         0.0|              0.0|            1.0|                            3.0|        1.0|[2012.0,2.0,32.0,...|\n",
      "|       2012|Bangalore|          3| 22|         0.0|              0.0|            0.0|                            5.0|        0.0|[2012.0,3.0,22.0,...|\n",
      "|       2012|Bangalore|          3| 22|         0.0|              0.0|            0.0|                            5.0|        1.0|[2012.0,3.0,22.0,...|\n",
      "+-----------+---------+-----------+---+------------+-----------------+---------------+-------------------------------+-----------+--------------------+\n",
      "only showing top 20 rows\n",
      "\n"
     ]
    }
   ],
   "source": [
    "df3_train.show()"
   ]
  },
  {
   "cell_type": "markdown",
   "id": "3ac68242",
   "metadata": {},
   "source": [
    "<span style=\"font-family:Comic Sans MS; font-size:14;color:black\">NORMALIZAMOS EL TRAIN Y TEST</span>\n"
   ]
  },
  {
   "cell_type": "markdown",
   "id": "0fdc93d3",
   "metadata": {},
   "source": [
    "<span style=\"font-family:Comic Sans MS; font-size:14;color:black\">Normalizamos con la función normalizer nuestros conjunto de train (entrenamiento) y test</span>\n",
    "\n",
    "\n"
   ]
  },
  {
   "cell_type": "code",
   "execution_count": 879,
   "id": "0ecb768b",
   "metadata": {},
   "outputs": [],
   "source": [
    "from pyspark.ml.feature import Normalizer\n",
    "normalizer = Normalizer(inputCol=\"features\", outputCol=\"normalizer_features\", p=1.0)\n",
    "train_normalizer = normalizer.transform(df3_train)\n",
    "test_normalizer = normalizer.transform(df3_test)"
   ]
  },
  {
   "cell_type": "markdown",
   "id": "d119702d",
   "metadata": {},
   "source": [
    "<span style=\"font-family:Comic Sans MS; font-size:14;color:black\">A continuacion vemos la matriz de correlación, esta nos permite ver rapidamente que variables están altamente realacionadas. </span>\n",
    "\n"
   ]
  },
  {
   "cell_type": "code",
   "execution_count": 880,
   "id": "62909bcf",
   "metadata": {},
   "outputs": [
    {
     "data": {
      "text/plain": [
       "<AxesSubplot:>"
      ]
     },
     "execution_count": 880,
     "metadata": {},
     "output_type": "execute_result"
    },
    {
     "data": {
      "image/png": "[encoded data removed]",
      "text/plain": [
       "<Figure size 720x720 with 2 Axes>"
      ]
     },
     "metadata": {},
     "output_type": "display_data"
    }
   ],
   "source": [
    "import matplotlib.pyplot as plt\n",
    "import seaborn as sns\n",
    "matriz_corr = df3_train.toPandas()[['JoiningYear', 'PaymentTier','Age','ExperienceInCurrentDomain_index', 'Gender_index', 'EverBenched_index', 'Education_index']].corr()\n",
    "plt.figure(figsize=(10,10))\n",
    "sns.heatmap(matriz_corr,xticklabels=matriz_corr.columns,yticklabels=matriz_corr.columns,annot=True)"
   ]
  },
  {
   "cell_type": "markdown",
   "id": "e62433d2",
   "metadata": {},
   "source": [
    "**<center><span style=\"font-family:Cooper Black; font-size:2em;color:blue\">RANDOM FOREST</span> </center>**"
   ]
  },
  {
   "cell_type": "markdown",
   "id": "3d65dc62",
   "metadata": {},
   "source": [
    "<span style=\"font-family:Comic Sans MS; font-size:1em;color:black\">Random Forest es un algoritmo robusto de aprendizaje automático que se puede usar para una variedad de tareas, incluidas la regresión y la clasificación. Es un método de conjunto, lo que significa que un modelo de bosque aleatorio se compone de una gran cantidad de pequeños árboles de decisión , llamados estimadores , cada uno de los cuales produce sus propias predicciones. El modelo de bosque aleatorio combina las predicciones de los estimadores para producir una predicción más precisa. </span>\n",
    "\n",
    "\n"
   ]
  },
  {
   "cell_type": "markdown",
   "id": "7424d27a",
   "metadata": {},
   "source": [
    "<span style=\"font-family:Comic Sans MS; font-size:1em;color:black\">En  nuestro caso vamos a usar un random forest de clasificación por nuestra columna a predecir</span>\n",
    "\n"
   ]
  },
  {
   "cell_type": "code",
   "execution_count": 881,
   "id": "16f8f658",
   "metadata": {},
   "outputs": [],
   "source": [
    "from pyspark.ml.classification import RandomForestClassifier"
   ]
  },
  {
   "cell_type": "markdown",
   "id": "c24ed1ae",
   "metadata": {},
   "source": [
    "<span style=\"font-family:Comic Sans MS; font-size:1em;color:black\">Declaramos el random forest con las variables que va a tener en cuenta y con el número de árboles que en nuestro caso es 10</span>\n"
   ]
  },
  {
   "cell_type": "code",
   "execution_count": 1014,
   "id": "b96f2035",
   "metadata": {},
   "outputs": [],
   "source": [
    "from pyspark.ml.classification import RandomForestClassifier\n",
    "rf= RandomForestClassifier(featuresCol='features',labelCol='Leave_index', numTrees=10) \n",
    "\n",
    "rfModel = rf.fit(df3_train) # En el caso que quisieramos aplicar el modelo con la transformación de pca o normalizer, devemos de poner la variable correspondiente en train_xx\n",
    "\n"
   ]
  },
  {
   "cell_type": "code",
   "execution_count": 883,
   "id": "b86dbecf",
   "metadata": {},
   "outputs": [
    {
     "name": "stdout",
     "output_type": "stream",
     "text": [
      "+----------+-----------+--------------------+--------------------+\n",
      "|prediction|Leave_index|         probability|            features|\n",
      "+----------+-----------+--------------------+--------------------+\n",
      "|       0.0|        0.0|[0.82516008144432...|[2012.0,3.0,23.0,...|\n",
      "|       0.0|        0.0|[0.82516008144432...|(7,[0,1,2],[2012....|\n",
      "|       0.0|        0.0|[0.82516008144432...|(7,[0,1,2],[2012....|\n",
      "|       0.0|        1.0|[0.82516008144432...|(7,[0,1,2],[2012....|\n",
      "|       0.0|        1.0|[0.82516008144432...|(7,[0,1,2],[2012....|\n",
      "+----------+-----------+--------------------+--------------------+\n",
      "only showing top 5 rows\n",
      "\n"
     ]
    }
   ],
   "source": [
    "predictions = rfModel.transform(df3_test) # En el caso que quisieramos aplicar el modelo con la transformación de pca o normalizer, devemos de poner la variable correspondiente en test_xx\n",
    "predictions.select('prediction','Leave_index','probability','features').show(5)\n"
   ]
  },
  {
   "cell_type": "code",
   "execution_count": 884,
   "id": "82071ada",
   "metadata": {},
   "outputs": [],
   "source": [
    "from pyspark.ml.evaluation import BinaryClassificationEvaluator"
   ]
  },
  {
   "cell_type": "code",
   "execution_count": 885,
   "id": "315e5db5",
   "metadata": {},
   "outputs": [],
   "source": [
    "evaluator=BinaryClassificationEvaluator(labelCol='Leave_index',rawPredictionCol='prediction')"
   ]
  },
  {
   "cell_type": "code",
   "execution_count": 886,
   "id": "4a09560d",
   "metadata": {},
   "outputs": [
    {
     "name": "stdout",
     "output_type": "stream",
     "text": [
      "AraUnderROC: 0.7450331125827815\n"
     ]
    }
   ],
   "source": [
    "print('AraUnderROC:',evaluator.evaluate(predictions,{evaluator.metricName:'areaUnderROC'}))"
   ]
  },
  {
   "cell_type": "code",
   "execution_count": 887,
   "id": "af70d537",
   "metadata": {},
   "outputs": [
    {
     "name": "stdout",
     "output_type": "stream",
     "text": [
      "              precision    recall  f1-score   support\n",
      "\n",
      "         0.0       0.78      0.98      0.87      2449\n",
      "         1.0       0.93      0.49      0.64      1302\n",
      "\n",
      "    accuracy                           0.81      3751\n",
      "   macro avg       0.85      0.73      0.75      3751\n",
      "weighted avg       0.83      0.81      0.79      3751\n",
      "\n"
     ]
    }
   ],
   "source": [
    "import sklearn \n",
    "from pyspark.ml.classification import RandomForestClassifier\n",
    "\n",
    "\n",
    "rfModel = rf.fit(df3_train)\n",
    "predictions_train = rfModel.transform(df3_train)\n",
    "\n",
    "y_true = predictions_train.select(['Leave_index']).collect()\n",
    "y_pred = predictions_train.select(['prediction']).collect()\n",
    "\n",
    "from sklearn.metrics import classification_report, confusion_matrix\n",
    "print(classification_report(y_true, y_pred))\n",
    "cnf_matrix = confusion_matrix(y_true, y_pred,labels=[0,1])"
   ]
  },
  {
   "cell_type": "code",
   "execution_count": 888,
   "id": "6cd2e9b5",
   "metadata": {},
   "outputs": [
    {
     "data": {
      "image/png": "[encoded data removed]",
      "text/plain": [
       "<Figure size 432x288 with 2 Axes>"
      ]
     },
     "metadata": {},
     "output_type": "display_data"
    }
   ],
   "source": [
    "import seaborn as sns\n",
    "\n",
    "group_names = ['True Neg','False Pos','False Neg','True Pos']\n",
    "\n",
    "group_counts = [\"{0:0.0f}\".format(value) for value in\n",
    "                cnf_matrix.flatten()]\n",
    "\n",
    "labels = [f\"{v1}\\n{v2}\" for v1, v2 in\n",
    "          zip(group_names,group_counts)]\n",
    "\n",
    "labels = np.asarray(labels).reshape(2,2)\n",
    "\n",
    "ax = sns.heatmap(cnf_matrix, annot=labels, fmt='', cmap='Greens')\n",
    "\n",
    "ax.set_title('Seaborn Confusion Matrix with labels\\n\\n');\n",
    "ax.set_xlabel('\\nPredicted Values')\n",
    "ax.set_ylabel('Actual Values ');\n",
    "\n",
    "## Ticket labels - List must be in alphabetical order\n",
    "ax.xaxis.set_ticklabels(['False','True'])\n",
    "ax.yaxis.set_ticklabels(['False','True'])\n",
    "\n",
    "## Display the visualization of the Confusion Matrix.\n",
    "plt.show()"
   ]
  },
  {
   "cell_type": "markdown",
   "id": "7f42332b",
   "metadata": {},
   "source": [
    "<span style=\"font-family:Comic Sans MS; font-size:1em;color:black\">Viendo el areaUnderROC de test, podemos comprobar que el RandomForest base de 20 árboles se está comportando mejor que el LogisticRegression de clasificación obteniendo un 73,60% frente al 67% que opteniamos con el modelo de regresión </span>\n",
    "\n"
   ]
  },
  {
   "cell_type": "markdown",
   "id": "fede0d1b",
   "metadata": {},
   "source": [
    "<span style=\"font-family:Comic Sans MS; font-size:1em;color:black\">A continuación, parametros con los que se ha entrenado el modelo.</span>\n",
    "\n"
   ]
  },
  {
   "cell_type": "code",
   "execution_count": 889,
   "id": "465ac762",
   "metadata": {},
   "outputs": [
    {
     "data": {
      "text/plain": [
       "{Param(parent='RandomForestClassifier_0c6b80062e8a', name='bootstrap', doc='Whether bootstrap samples are used when building trees.'): True,\n",
       " Param(parent='RandomForestClassifier_0c6b80062e8a', name='cacheNodeIds', doc='If false, the algorithm will pass trees to executors to match instances with nodes. If true, the algorithm will cache node IDs for each instance. Caching can speed up training of deeper trees. Users can set how often should the cache be checkpointed or disable it by setting checkpointInterval.'): False,\n",
       " Param(parent='RandomForestClassifier_0c6b80062e8a', name='checkpointInterval', doc='set checkpoint interval (>= 1) or disable checkpoint (-1). E.g. 10 means that the cache will get checkpointed every 10 iterations. Note: this setting will be ignored if the checkpoint directory is not set in the SparkContext.'): 10,\n",
       " Param(parent='RandomForestClassifier_0c6b80062e8a', name='featureSubsetStrategy', doc=\"The number of features to consider for splits at each tree node. Supported options: 'auto' (choose automatically for task: If numTrees == 1, set to 'all'. If numTrees > 1 (forest), set to 'sqrt' for classification and to 'onethird' for regression), 'all' (use all features), 'onethird' (use 1/3 of the features), 'sqrt' (use sqrt(number of features)), 'log2' (use log2(number of features)), 'n' (when n is in the range (0, 1.0], use n * number of features. When n is in the range (1, number of features), use n features). default = 'auto'\"): 'auto',\n",
       " Param(parent='RandomForestClassifier_0c6b80062e8a', name='featuresCol', doc='features column name.'): 'features',\n",
       " Param(parent='RandomForestClassifier_0c6b80062e8a', name='impurity', doc='Criterion used for information gain calculation (case-insensitive). Supported options: entropy, gini'): 'gini',\n",
       " Param(parent='RandomForestClassifier_0c6b80062e8a', name='labelCol', doc='label column name.'): 'Leave_index',\n",
       " Param(parent='RandomForestClassifier_0c6b80062e8a', name='leafCol', doc='Leaf indices column name. Predicted leaf index of each instance in each tree by preorder.'): '',\n",
       " Param(parent='RandomForestClassifier_0c6b80062e8a', name='maxBins', doc='Max number of bins for discretizing continuous features.  Must be >=2 and >= number of categories for any categorical feature.'): 32,\n",
       " Param(parent='RandomForestClassifier_0c6b80062e8a', name='maxDepth', doc='Maximum depth of the tree. (>= 0) E.g., depth 0 means 1 leaf node; depth 1 means 1 internal node + 2 leaf nodes. Must be in range [0, 30].'): 5,\n",
       " Param(parent='RandomForestClassifier_0c6b80062e8a', name='maxMemoryInMB', doc='Maximum memory in MB allocated to histogram aggregation. If too small, then 1 node will be split per iteration, and its aggregates may exceed this size.'): 256,\n",
       " Param(parent='RandomForestClassifier_0c6b80062e8a', name='minInfoGain', doc='Minimum information gain for a split to be considered at a tree node.'): 0.0,\n",
       " Param(parent='RandomForestClassifier_0c6b80062e8a', name='minInstancesPerNode', doc='Minimum number of instances each child must have after split. If a split causes the left or right child to have fewer than minInstancesPerNode, the split will be discarded as invalid. Should be >= 1.'): 1,\n",
       " Param(parent='RandomForestClassifier_0c6b80062e8a', name='minWeightFractionPerNode', doc='Minimum fraction of the weighted sample count that each child must have after split. If a split causes the fraction of the total weight in the left or right child to be less than minWeightFractionPerNode, the split will be discarded as invalid. Should be in interval [0.0, 0.5).'): 0.0,\n",
       " Param(parent='RandomForestClassifier_0c6b80062e8a', name='numTrees', doc='Number of trees to train (>= 1).'): 10,\n",
       " Param(parent='RandomForestClassifier_0c6b80062e8a', name='predictionCol', doc='prediction column name.'): 'prediction',\n",
       " Param(parent='RandomForestClassifier_0c6b80062e8a', name='probabilityCol', doc='Column name for predicted class conditional probabilities. Note: Not all models output well-calibrated probability estimates! These probabilities should be treated as confidences, not precise probabilities.'): 'probability',\n",
       " Param(parent='RandomForestClassifier_0c6b80062e8a', name='rawPredictionCol', doc='raw prediction (a.k.a. confidence) column name.'): 'rawPrediction',\n",
       " Param(parent='RandomForestClassifier_0c6b80062e8a', name='seed', doc='random seed.'): -3655675532301163856,\n",
       " Param(parent='RandomForestClassifier_0c6b80062e8a', name='subsamplingRate', doc='Fraction of the training data used for learning each decision tree, in range (0, 1].'): 1.0}"
      ]
     },
     "execution_count": 889,
     "metadata": {},
     "output_type": "execute_result"
    }
   ],
   "source": [
    "rfModel.extractParamMap()"
   ]
  },
  {
   "cell_type": "markdown",
   "id": "7b29fa7a",
   "metadata": {},
   "source": [
    " <span style=\"font-family:Comic Sans MS; font-size:1em;color:black\">Con la siguiente línea de código podemos ver la explicacion de cada parámetro del modelo.</span>\n",
    "\n",
    " "
   ]
  },
  {
   "cell_type": "code",
   "execution_count": 890,
   "id": "e40b65db",
   "metadata": {},
   "outputs": [
    {
     "name": "stdout",
     "output_type": "stream",
     "text": [
      "bootstrap: Whether bootstrap samples are used when building trees. (default: True)\n",
      "cacheNodeIds: If false, the algorithm will pass trees to executors to match instances with nodes. If true, the algorithm will cache node IDs for each instance. Caching can speed up training of deeper trees. Users can set how often should the cache be checkpointed or disable it by setting checkpointInterval. (default: False)\n",
      "checkpointInterval: set checkpoint interval (>= 1) or disable checkpoint (-1). E.g. 10 means that the cache will get checkpointed every 10 iterations. Note: this setting will be ignored if the checkpoint directory is not set in the SparkContext. (default: 10)\n",
      "featureSubsetStrategy: The number of features to consider for splits at each tree node. Supported options: 'auto' (choose automatically for task: If numTrees == 1, set to 'all'. If numTrees > 1 (forest), set to 'sqrt' for classification and to 'onethird' for regression), 'all' (use all features), 'onethird' (use 1/3 of the features), 'sqrt' (use sqrt(number of features)), 'log2' (use log2(number of features)), 'n' (when n is in the range (0, 1.0], use n * number of features. When n is in the range (1, number of features), use n features). default = 'auto' (default: auto)\n",
      "featuresCol: features column name. (default: features, current: features)\n",
      "impurity: Criterion used for information gain calculation (case-insensitive). Supported options: entropy, gini (default: gini)\n",
      "labelCol: label column name. (default: label, current: Leave_index)\n",
      "leafCol: Leaf indices column name. Predicted leaf index of each instance in each tree by preorder. (default: )\n",
      "maxBins: Max number of bins for discretizing continuous features.  Must be >=2 and >= number of categories for any categorical feature. (default: 32)\n",
      "maxDepth: Maximum depth of the tree. (>= 0) E.g., depth 0 means 1 leaf node; depth 1 means 1 internal node + 2 leaf nodes. Must be in range [0, 30]. (default: 5)\n",
      "maxMemoryInMB: Maximum memory in MB allocated to histogram aggregation. If too small, then 1 node will be split per iteration, and its aggregates may exceed this size. (default: 256)\n",
      "minInfoGain: Minimum information gain for a split to be considered at a tree node. (default: 0.0)\n",
      "minInstancesPerNode: Minimum number of instances each child must have after split. If a split causes the left or right child to have fewer than minInstancesPerNode, the split will be discarded as invalid. Should be >= 1. (default: 1)\n",
      "minWeightFractionPerNode: Minimum fraction of the weighted sample count that each child must have after split. If a split causes the fraction of the total weight in the left or right child to be less than minWeightFractionPerNode, the split will be discarded as invalid. Should be in interval [0.0, 0.5). (default: 0.0)\n",
      "numTrees: Number of trees to train (>= 1). (default: 20, current: 10)\n",
      "predictionCol: prediction column name. (default: prediction)\n",
      "probabilityCol: Column name for predicted class conditional probabilities. Note: Not all models output well-calibrated probability estimates! These probabilities should be treated as confidences, not precise probabilities. (default: probability)\n",
      "rawPredictionCol: raw prediction (a.k.a. confidence) column name. (default: rawPrediction)\n",
      "seed: random seed. (default: -3655675532301163856)\n",
      "subsamplingRate: Fraction of the training data used for learning each decision tree, in range (0, 1]. (default: 1.0)\n",
      "thresholds: Thresholds in multi-class classification to adjust the probability of predicting each class. Array must have length equal to the number of classes, with values > 0, excepting that at most one value may be 0. The class with largest value p/t is predicted, where p is the original probability of that class and t is the class's threshold. (undefined)\n",
      "weightCol: weight column name. If this is not set or empty, we treat all instance weights as 1.0. (undefined)\n"
     ]
    }
   ],
   "source": [
    "print(rfModel.explainParams())"
   ]
  },
  {
   "cell_type": "markdown",
   "id": "44ff8313",
   "metadata": {},
   "source": [
    " <span style=\"font-family:Comic Sans MS; font-size:1em;color:black\">Los modelos de árbol tambien se emplean para reducir las dimesiones como podemos ver a continuación:</span>\n",
    "\n",
    "\n"
   ]
  },
  {
   "cell_type": "code",
   "execution_count": 891,
   "id": "a6a0dafa",
   "metadata": {
    "scrolled": true
   },
   "outputs": [
    {
     "data": {
      "text/plain": [
       "SparseVector(7, {0: 0.5462, 1: 0.2165, 2: 0.0329, 3: 0.0126, 4: 0.0778, 5: 0.0183, 6: 0.0957})"
      ]
     },
     "execution_count": 891,
     "metadata": {},
     "output_type": "execute_result"
    }
   ],
   "source": [
    "rfModel.featureImportances"
   ]
  },
  {
   "cell_type": "markdown",
   "id": "64f1ccac",
   "metadata": {},
   "source": [
    " <span style=\"font-family:Comic Sans MS; font-size:1em;color:black\">Aqui podemos ver la \"importancia\" de cada una de las variables, podemos ver que ninguna variable es demasiado importante e excepción de la primera que si lo es, por lo que podriamos afinar el modelo de RandomForest quedandonos con las variable 0, 2 y 4 por ejemplo. Deberiamos volver a entrenar y evaluar el modelo con un nuevo vector features con esas variables.</span>\n",
    "\n",
    "\n",
    "\n"
   ]
  },
  {
   "cell_type": "markdown",
   "id": "5de92e8e",
   "metadata": {},
   "source": [
    "**<center><span style=\"font-family:Cooper Black; font-size:2em;color:blue\">MEJORA GRID</span> </center>**\n"
   ]
  },
  {
   "cell_type": "markdown",
   "id": "ee280d81",
   "metadata": {},
   "source": [
    " <span style=\"font-family:Comic Sans MS; font-size:1em;color:black\">\n",
    "Como nuestro modelo no es del todo perfecto pasamos a realizar una mejora con el objetivo de optimizar este proceso, dicha mejora es un algoritmo que itera a través de la lista de valores de los parámetros, estima los modelos de manera independiente y escoje la mejor opción.</span>\n",
    "\n",
    "\n",
    "\n",
    "\n",
    "\n",
    "\n"
   ]
  },
  {
   "cell_type": "code",
   "execution_count": 892,
   "id": "d83b1b37",
   "metadata": {},
   "outputs": [],
   "source": [
    "import pyspark.ml.tuning as tune"
   ]
  },
  {
   "cell_type": "markdown",
   "id": "5d73949e",
   "metadata": {},
   "source": [
    " <span style=\"font-family:Comic Sans MS; font-size:1em;color:black\">\n",
    "\n",
    "\n",
    "Especificamos a nuestro modelo la lista de parámetros sobre la que queremos iterar.\n",
    "\n",
    "Para ello añadimos parámetros al Grid con \"addGrid\". El primer argumento de addGrid es el parámetro que queremos optimizar y el segundo son los posibles valores que puede tener.\n",
    "\n",
    "Hacemos el \"build\" para construir el Grid</span>\n",
    "\n"
   ]
  },
  {
   "cell_type": "code",
   "execution_count": 893,
   "id": "ed305b66",
   "metadata": {},
   "outputs": [],
   "source": [
    "import pyspark.ml.classification as cl\n",
    "import pyspark.ml.tuning as tune\n",
    "\n",
    "rf3=cl.RandomForestClassifier(labelCol='Leave_index')\n",
    "\n",
    "grid = tune.ParamGridBuilder().addGrid(rf3.numTrees, [10,30]).build()\n"
   ]
  },
  {
   "cell_type": "code",
   "execution_count": 894,
   "id": "bc883a94",
   "metadata": {},
   "outputs": [],
   "source": [
    "from pyspark.ml.tuning import CrossValidator, ParamGridBuilder"
   ]
  },
  {
   "cell_type": "code",
   "execution_count": 895,
   "id": "eaf6dcba",
   "metadata": {},
   "outputs": [],
   "source": [
    "evaluator = BinaryClassificationEvaluator(rawPredictionCol='rawPrediction', labelCol='Leave_index')\n"
   ]
  },
  {
   "cell_type": "code",
   "execution_count": 896,
   "id": "bd190402",
   "metadata": {},
   "outputs": [],
   "source": [
    "cv = tune.CrossValidator(estimator=rf, estimatorParamMaps=grid, evaluator=evaluator)\n"
   ]
  },
  {
   "cell_type": "code",
   "execution_count": 897,
   "id": "fffc8e49",
   "metadata": {},
   "outputs": [],
   "source": [
    "cvModel = cv.fit(df3_train)\n"
   ]
  },
  {
   "cell_type": "code",
   "execution_count": 898,
   "id": "8b39c5e0",
   "metadata": {},
   "outputs": [
    {
     "name": "stdout",
     "output_type": "stream",
     "text": [
      "0.8316202942352994\n"
     ]
    }
   ],
   "source": [
    "\n",
    "\n",
    "results = cvModel.transform(df3_test)\n",
    "\n",
    "print(evaluator.evaluate(results, {evaluator.metricName: 'areaUnderROC'}))"
   ]
  },
  {
   "cell_type": "markdown",
   "id": "254fa65e",
   "metadata": {},
   "source": [
    " <span style=\"font-family:Comic Sans MS; font-size:1em;color:black\">\n",
    "\n",
    "\n",
    "\n",
    "¿Qué parámetros han sido los mejores para obtener estos resultados? </span>\n",
    "\n",
    "\n",
    "\n",
    "\n"
   ]
  },
  {
   "cell_type": "code",
   "execution_count": 899,
   "id": "73af6c99",
   "metadata": {},
   "outputs": [],
   "source": [
    "df3_transformer = pipeline.fit(df3_train)"
   ]
  },
  {
   "cell_type": "code",
   "execution_count": 900,
   "id": "f44ed08a",
   "metadata": {},
   "outputs": [
    {
     "data": {
      "text/plain": [
       "([{'numTrees': 10}], 0.8271688351066326)"
      ]
     },
     "execution_count": 900,
     "metadata": {},
     "output_type": "execute_result"
    }
   ],
   "source": [
    "results = [\n",
    "    (\n",
    "        [\n",
    "            {key.name: paramValue} \n",
    "            for key, paramValue \n",
    "            in zip(\n",
    "                params.keys(), \n",
    "                params.values())\n",
    "        ], metric\n",
    "    ) \n",
    "    for params, metric \n",
    "    in zip(\n",
    "        cvModel.getEstimatorParamMaps(), \n",
    "        cvModel.avgMetrics\n",
    "    )\n",
    "]\n",
    "\n",
    "sorted(results, key=lambda el: el[1], reverse=True)[0]"
   ]
  },
  {
   "cell_type": "code",
   "execution_count": 901,
   "id": "f623086b",
   "metadata": {},
   "outputs": [
    {
     "data": {
      "text/plain": [
       "[StringIndexerModel: uid=StringIndexer_6a5c9c232d59, handleInvalid=error,\n",
       " StringIndexerModel: uid=StringIndexer_3647aa54a430, handleInvalid=error,\n",
       " StringIndexerModel: uid=StringIndexer_b2eae3521408, handleInvalid=error,\n",
       " StringIndexerModel: uid=StringIndexer_0415877b83e6, handleInvalid=error,\n",
       " StringIndexerModel: uid=StringIndexer_de9ba618e4ff, handleInvalid=error]"
      ]
     },
     "execution_count": 901,
     "metadata": {},
     "output_type": "execute_result"
    }
   ],
   "source": [
    "df3_transformer.stages"
   ]
  },
  {
   "cell_type": "code",
   "execution_count": 902,
   "id": "c3ec1d88",
   "metadata": {},
   "outputs": [
    {
     "data": {
      "text/plain": [
       "''"
      ]
     },
     "execution_count": 902,
     "metadata": {},
     "output_type": "execute_result"
    }
   ],
   "source": [
    "df3_transformer.explainParams()"
   ]
  },
  {
   "cell_type": "code",
   "execution_count": 903,
   "id": "63d64ba3",
   "metadata": {},
   "outputs": [
    {
     "data": {
      "text/plain": [
       "\"bootstrap: Whether bootstrap samples are used when building trees. (default: True)\\ncacheNodeIds: If false, the algorithm will pass trees to executors to match instances with nodes. If true, the algorithm will cache node IDs for each instance. Caching can speed up training of deeper trees. Users can set how often should the cache be checkpointed or disable it by setting checkpointInterval. (default: False)\\ncheckpointInterval: set checkpoint interval (>= 1) or disable checkpoint (-1). E.g. 10 means that the cache will get checkpointed every 10 iterations. Note: this setting will be ignored if the checkpoint directory is not set in the SparkContext. (default: 10)\\nfeatureSubsetStrategy: The number of features to consider for splits at each tree node. Supported options: 'auto' (choose automatically for task: If numTrees == 1, set to 'all'. If numTrees > 1 (forest), set to 'sqrt' for classification and to 'onethird' for regression), 'all' (use all features), 'onethird' (use 1/3 of the features), 'sqrt' (use sqrt(number of features)), 'log2' (use log2(number of features)), 'n' (when n is in the range (0, 1.0], use n * number of features. When n is in the range (1, number of features), use n features). default = 'auto' (default: auto)\\nfeaturesCol: features column name. (default: features, current: features)\\nimpurity: Criterion used for information gain calculation (case-insensitive). Supported options: entropy, gini (default: gini)\\nlabelCol: label column name. (default: label, current: Leave_index)\\nleafCol: Leaf indices column name. Predicted leaf index of each instance in each tree by preorder. (default: )\\nmaxBins: Max number of bins for discretizing continuous features.  Must be >=2 and >= number of categories for any categorical feature. (default: 32)\\nmaxDepth: Maximum depth of the tree. (>= 0) E.g., depth 0 means 1 leaf node; depth 1 means 1 internal node + 2 leaf nodes. Must be in range [0, 30]. (default: 5)\\nmaxMemoryInMB: Maximum memory in MB allocated to histogram aggregation. If too small, then 1 node will be split per iteration, and its aggregates may exceed this size. (default: 256)\\nminInfoGain: Minimum information gain for a split to be considered at a tree node. (default: 0.0)\\nminInstancesPerNode: Minimum number of instances each child must have after split. If a split causes the left or right child to have fewer than minInstancesPerNode, the split will be discarded as invalid. Should be >= 1. (default: 1)\\nminWeightFractionPerNode: Minimum fraction of the weighted sample count that each child must have after split. If a split causes the fraction of the total weight in the left or right child to be less than minWeightFractionPerNode, the split will be discarded as invalid. Should be in interval [0.0, 0.5). (default: 0.0)\\nnumTrees: Number of trees to train (>= 1). (default: 20, current: 10)\\npredictionCol: prediction column name. (default: prediction)\\nprobabilityCol: Column name for predicted class conditional probabilities. Note: Not all models output well-calibrated probability estimates! These probabilities should be treated as confidences, not precise probabilities. (default: probability)\\nrawPredictionCol: raw prediction (a.k.a. confidence) column name. (default: rawPrediction)\\nseed: random seed. (default: -3655675532301163856)\\nsubsamplingRate: Fraction of the training data used for learning each decision tree, in range (0, 1]. (default: 1.0)\\nthresholds: Thresholds in multi-class classification to adjust the probability of predicting each class. Array must have length equal to the number of classes, with values > 0, excepting that at most one value may be 0. The class with largest value p/t is predicted, where p is the original probability of that class and t is the class's threshold. (undefined)\\nweightCol: weight column name. If this is not set or empty, we treat all instance weights as 1.0. (undefined)\""
      ]
     },
     "execution_count": 903,
     "metadata": {},
     "output_type": "execute_result"
    }
   ],
   "source": [
    "cvModel.bestModel.explainParams()"
   ]
  },
  {
   "cell_type": "code",
   "execution_count": 904,
   "id": "ee4f53f0",
   "metadata": {},
   "outputs": [
    {
     "name": "stdout",
     "output_type": "stream",
     "text": [
      "Best Param (MaxDepth):  5\n"
     ]
    }
   ],
   "source": [
    "print('Best Param (MaxDepth): ', cvModel.bestModel._java_obj.getMaxDepth())"
   ]
  },
  {
   "cell_type": "code",
   "execution_count": 905,
   "id": "57910e2e",
   "metadata": {},
   "outputs": [],
   "source": [
    "l=cvModel.params"
   ]
  },
  {
   "cell_type": "code",
   "execution_count": 906,
   "id": "09a5c98d",
   "metadata": {},
   "outputs": [
    {
     "data": {
      "text/plain": [
       "{Param(parent='CrossValidator_76f084c2c99a', name='collectSubModels', doc='Param for whether to collect a list of sub-models trained during tuning. If set to false, then only the single best sub-model will be available after fitting. If set to true, then all sub-models will be available. Warning: For large models, collecting all sub-models can cause OOMs on the Spark driver.'): False,\n",
       " Param(parent='CrossValidator_76f084c2c99a', name='parallelism', doc='the number of threads to use when running parallel algorithms (>= 1).'): 1,\n",
       " Param(parent='CrossValidator_76f084c2c99a', name='seed', doc='random seed.'): 3555959104600968043,\n",
       " Param(parent='CrossValidator_76f084c2c99a', name='numFolds', doc='number of folds for cross validation'): 3,\n",
       " Param(parent='CrossValidator_76f084c2c99a', name='foldCol', doc=\"Param for the column name of user specified fold number. Once this is specified, :py:class:`CrossValidator` won't do random k-fold split. Note that this column should be integer type with range [0, numFolds) and Spark will throw exception on out-of-range fold numbers.\"): '',\n",
       " Param(parent='CrossValidator_76f084c2c99a', name='estimator', doc='estimator to be cross-validated'): RandomForestClassifier_0c6b80062e8a,\n",
       " Param(parent='CrossValidator_76f084c2c99a', name='estimatorParamMaps', doc='estimator param maps'): [{Param(parent='RandomForestClassifier_ac30bc921222', name='numTrees', doc='Number of trees to train (>= 1).'): 10},\n",
       "  {Param(parent='RandomForestClassifier_ac30bc921222', name='numTrees', doc='Number of trees to train (>= 1).'): 30}],\n",
       " Param(parent='CrossValidator_76f084c2c99a', name='evaluator', doc='evaluator used to select hyper-parameters that maximize the validator metric'): BinaryClassificationEvaluator_6b8fd6c9191d}"
      ]
     },
     "execution_count": 906,
     "metadata": {},
     "output_type": "execute_result"
    }
   ],
   "source": [
    "cv.extractParamMap()"
   ]
  },
  {
   "cell_type": "code",
   "execution_count": 907,
   "id": "0af097c6",
   "metadata": {},
   "outputs": [
    {
     "name": "stdout",
     "output_type": "stream",
     "text": [
      "Model 1 was fit using parameters: \n",
      "{Param(parent='RandomForestClassifier_0c6b80062e8a', name='bootstrap', doc='Whether bootstrap samples are used when building trees.'): True, Param(parent='RandomForestClassifier_0c6b80062e8a', name='cacheNodeIds', doc='If false, the algorithm will pass trees to executors to match instances with nodes. If true, the algorithm will cache node IDs for each instance. Caching can speed up training of deeper trees. Users can set how often should the cache be checkpointed or disable it by setting checkpointInterval.'): False, Param(parent='RandomForestClassifier_0c6b80062e8a', name='checkpointInterval', doc='set checkpoint interval (>= 1) or disable checkpoint (-1). E.g. 10 means that the cache will get checkpointed every 10 iterations. Note: this setting will be ignored if the checkpoint directory is not set in the SparkContext.'): 10, Param(parent='RandomForestClassifier_0c6b80062e8a', name='featureSubsetStrategy', doc=\"The number of features to consider for splits at each tree node. Supported options: 'auto' (choose automatically for task: If numTrees == 1, set to 'all'. If numTrees > 1 (forest), set to 'sqrt' for classification and to 'onethird' for regression), 'all' (use all features), 'onethird' (use 1/3 of the features), 'sqrt' (use sqrt(number of features)), 'log2' (use log2(number of features)), 'n' (when n is in the range (0, 1.0], use n * number of features. When n is in the range (1, number of features), use n features). default = 'auto'\"): 'auto', Param(parent='RandomForestClassifier_0c6b80062e8a', name='featuresCol', doc='features column name.'): 'features', Param(parent='RandomForestClassifier_0c6b80062e8a', name='impurity', doc='Criterion used for information gain calculation (case-insensitive). Supported options: entropy, gini'): 'gini', Param(parent='RandomForestClassifier_0c6b80062e8a', name='labelCol', doc='label column name.'): 'Leave_index', Param(parent='RandomForestClassifier_0c6b80062e8a', name='leafCol', doc='Leaf indices column name. Predicted leaf index of each instance in each tree by preorder.'): '', Param(parent='RandomForestClassifier_0c6b80062e8a', name='maxBins', doc='Max number of bins for discretizing continuous features.  Must be >=2 and >= number of categories for any categorical feature.'): 32, Param(parent='RandomForestClassifier_0c6b80062e8a', name='maxDepth', doc='Maximum depth of the tree. (>= 0) E.g., depth 0 means 1 leaf node; depth 1 means 1 internal node + 2 leaf nodes. Must be in range [0, 30].'): 5, Param(parent='RandomForestClassifier_0c6b80062e8a', name='maxMemoryInMB', doc='Maximum memory in MB allocated to histogram aggregation. If too small, then 1 node will be split per iteration, and its aggregates may exceed this size.'): 256, Param(parent='RandomForestClassifier_0c6b80062e8a', name='minInfoGain', doc='Minimum information gain for a split to be considered at a tree node.'): 0.0, Param(parent='RandomForestClassifier_0c6b80062e8a', name='minInstancesPerNode', doc='Minimum number of instances each child must have after split. If a split causes the left or right child to have fewer than minInstancesPerNode, the split will be discarded as invalid. Should be >= 1.'): 1, Param(parent='RandomForestClassifier_0c6b80062e8a', name='minWeightFractionPerNode', doc='Minimum fraction of the weighted sample count that each child must have after split. If a split causes the fraction of the total weight in the left or right child to be less than minWeightFractionPerNode, the split will be discarded as invalid. Should be in interval [0.0, 0.5).'): 0.0, Param(parent='RandomForestClassifier_0c6b80062e8a', name='numTrees', doc='Number of trees to train (>= 1).'): 10, Param(parent='RandomForestClassifier_0c6b80062e8a', name='predictionCol', doc='prediction column name.'): 'prediction', Param(parent='RandomForestClassifier_0c6b80062e8a', name='probabilityCol', doc='Column name for predicted class conditional probabilities. Note: Not all models output well-calibrated probability estimates! These probabilities should be treated as confidences, not precise probabilities.'): 'probability', Param(parent='RandomForestClassifier_0c6b80062e8a', name='rawPredictionCol', doc='raw prediction (a.k.a. confidence) column name.'): 'rawPrediction', Param(parent='RandomForestClassifier_0c6b80062e8a', name='seed', doc='random seed.'): -3655675532301163856, Param(parent='RandomForestClassifier_0c6b80062e8a', name='subsamplingRate', doc='Fraction of the training data used for learning each decision tree, in range (0, 1].'): 1.0}\n"
     ]
    }
   ],
   "source": [
    "from pyspark.mllib.linalg import Vectors\n",
    "from pyspark.ml.classification import LogisticRegression\n",
    "from pyspark.ml.param import Param, Params\n",
    "\n",
    "\n",
    "\n",
    "# Learn a LogisticRegression model. This uses the parameters stored in lr.\n",
    "model1 = rf.fit(df3_train)\n",
    "\n",
    "# Since model1 is a Model (i.e., a transformer produced by an Estimator),\n",
    "# we can view the parameters it used during fit().\n",
    "# This prints the parameter (name: value) pairs, where names are unique IDs for this\n",
    "# LogisticRegression instance.\n",
    "print(\"Model 1 was fit using parameters: \")\n",
    "print(model1.extractParamMap())"
   ]
  },
  {
   "cell_type": "code",
   "execution_count": 908,
   "id": "fe4ff56b",
   "metadata": {},
   "outputs": [],
   "source": [
    "m=rf.copy()"
   ]
  },
  {
   "cell_type": "code",
   "execution_count": 909,
   "id": "08d2f1f5",
   "metadata": {},
   "outputs": [
    {
     "data": {
      "text/plain": [
       "5"
      ]
     },
     "execution_count": 909,
     "metadata": {},
     "output_type": "execute_result"
    }
   ],
   "source": [
    "m.getMaxDepth()"
   ]
  },
  {
   "cell_type": "code",
   "execution_count": 910,
   "id": "b28ac8a8",
   "metadata": {},
   "outputs": [
    {
     "data": {
      "text/plain": [
       "{Param(parent='RandomForestClassifier_0c6b80062e8a', name='bootstrap', doc='Whether bootstrap samples are used when building trees.'): True,\n",
       " Param(parent='RandomForestClassifier_0c6b80062e8a', name='cacheNodeIds', doc='If false, the algorithm will pass trees to executors to match instances with nodes. If true, the algorithm will cache node IDs for each instance. Caching can speed up training of deeper trees. Users can set how often should the cache be checkpointed or disable it by setting checkpointInterval.'): False,\n",
       " Param(parent='RandomForestClassifier_0c6b80062e8a', name='checkpointInterval', doc='set checkpoint interval (>= 1) or disable checkpoint (-1). E.g. 10 means that the cache will get checkpointed every 10 iterations. Note: this setting will be ignored if the checkpoint directory is not set in the SparkContext.'): 10,\n",
       " Param(parent='RandomForestClassifier_0c6b80062e8a', name='featureSubsetStrategy', doc=\"The number of features to consider for splits at each tree node. Supported options: 'auto' (choose automatically for task: If numTrees == 1, set to 'all'. If numTrees > 1 (forest), set to 'sqrt' for classification and to 'onethird' for regression), 'all' (use all features), 'onethird' (use 1/3 of the features), 'sqrt' (use sqrt(number of features)), 'log2' (use log2(number of features)), 'n' (when n is in the range (0, 1.0], use n * number of features. When n is in the range (1, number of features), use n features). default = 'auto'\"): 'auto',\n",
       " Param(parent='RandomForestClassifier_0c6b80062e8a', name='featuresCol', doc='features column name.'): 'features',\n",
       " Param(parent='RandomForestClassifier_0c6b80062e8a', name='impurity', doc='Criterion used for information gain calculation (case-insensitive). Supported options: entropy, gini'): 'gini',\n",
       " Param(parent='RandomForestClassifier_0c6b80062e8a', name='labelCol', doc='label column name.'): 'Leave_index',\n",
       " Param(parent='RandomForestClassifier_0c6b80062e8a', name='leafCol', doc='Leaf indices column name. Predicted leaf index of each instance in each tree by preorder.'): '',\n",
       " Param(parent='RandomForestClassifier_0c6b80062e8a', name='maxBins', doc='Max number of bins for discretizing continuous features.  Must be >=2 and >= number of categories for any categorical feature.'): 32,\n",
       " Param(parent='RandomForestClassifier_0c6b80062e8a', name='maxDepth', doc='Maximum depth of the tree. (>= 0) E.g., depth 0 means 1 leaf node; depth 1 means 1 internal node + 2 leaf nodes. Must be in range [0, 30].'): 5,\n",
       " Param(parent='RandomForestClassifier_0c6b80062e8a', name='maxMemoryInMB', doc='Maximum memory in MB allocated to histogram aggregation. If too small, then 1 node will be split per iteration, and its aggregates may exceed this size.'): 256,\n",
       " Param(parent='RandomForestClassifier_0c6b80062e8a', name='minInfoGain', doc='Minimum information gain for a split to be considered at a tree node.'): 0.0,\n",
       " Param(parent='RandomForestClassifier_0c6b80062e8a', name='minInstancesPerNode', doc='Minimum number of instances each child must have after split. If a split causes the left or right child to have fewer than minInstancesPerNode, the split will be discarded as invalid. Should be >= 1.'): 1,\n",
       " Param(parent='RandomForestClassifier_0c6b80062e8a', name='minWeightFractionPerNode', doc='Minimum fraction of the weighted sample count that each child must have after split. If a split causes the fraction of the total weight in the left or right child to be less than minWeightFractionPerNode, the split will be discarded as invalid. Should be in interval [0.0, 0.5).'): 0.0,\n",
       " Param(parent='RandomForestClassifier_0c6b80062e8a', name='numTrees', doc='Number of trees to train (>= 1).'): 10,\n",
       " Param(parent='RandomForestClassifier_0c6b80062e8a', name='predictionCol', doc='prediction column name.'): 'prediction',\n",
       " Param(parent='RandomForestClassifier_0c6b80062e8a', name='probabilityCol', doc='Column name for predicted class conditional probabilities. Note: Not all models output well-calibrated probability estimates! These probabilities should be treated as confidences, not precise probabilities.'): 'probability',\n",
       " Param(parent='RandomForestClassifier_0c6b80062e8a', name='rawPredictionCol', doc='raw prediction (a.k.a. confidence) column name.'): 'rawPrediction',\n",
       " Param(parent='RandomForestClassifier_0c6b80062e8a', name='seed', doc='random seed.'): -3655675532301163856,\n",
       " Param(parent='RandomForestClassifier_0c6b80062e8a', name='subsamplingRate', doc='Fraction of the training data used for learning each decision tree, in range (0, 1].'): 1.0}"
      ]
     },
     "execution_count": 910,
     "metadata": {},
     "output_type": "execute_result"
    }
   ],
   "source": [
    "m.extractParamMap()"
   ]
  },
  {
   "cell_type": "code",
   "execution_count": 911,
   "id": "ccf07448",
   "metadata": {},
   "outputs": [
    {
     "data": {
      "text/plain": [
       "\"collectSubModels: Param for whether to collect a list of sub-models trained during tuning. If set to false, then only the single best sub-model will be available after fitting. If set to true, then all sub-models will be available. Warning: For large models, collecting all sub-models can cause OOMs on the Spark driver. (default: False)\\nestimator: estimator to be cross-validated (current: RandomForestClassifier_0c6b80062e8a)\\nestimatorParamMaps: estimator param maps (current: [{Param(parent='RandomForestClassifier_ac30bc921222', name='numTrees', doc='Number of trees to train (>= 1).'): 10}, {Param(parent='RandomForestClassifier_ac30bc921222', name='numTrees', doc='Number of trees to train (>= 1).'): 30}])\\nevaluator: evaluator used to select hyper-parameters that maximize the validator metric (current: BinaryClassificationEvaluator_6b8fd6c9191d)\\nfoldCol: Param for the column name of user specified fold number. Once this is specified, :py:class:`CrossValidator` won't do random k-fold split. Note that this column should be integer type with range [0, numFolds) and Spark will throw exception on out-of-range fold numbers. (default: )\\nnumFolds: number of folds for cross validation (default: 3)\\nparallelism: the number of threads to use when running parallel algorithms (>= 1). (default: 1)\\nseed: random seed. (default: 3555959104600968043)\""
      ]
     },
     "execution_count": 911,
     "metadata": {},
     "output_type": "execute_result"
    }
   ],
   "source": [
    "cv.explainParams()"
   ]
  },
  {
   "cell_type": "code",
   "execution_count": 912,
   "id": "9a0966c9",
   "metadata": {},
   "outputs": [],
   "source": [
    "bestPipeline = cvModel.bestModel"
   ]
  },
  {
   "cell_type": "code",
   "execution_count": 913,
   "id": "3169a8ed",
   "metadata": {},
   "outputs": [
    {
     "data": {
      "text/plain": [
       "RandomForestClassificationModel: uid=RandomForestClassifier_0c6b80062e8a, numTrees=10, numClasses=2, numFeatures=7"
      ]
     },
     "execution_count": 913,
     "metadata": {},
     "output_type": "execute_result"
    }
   ],
   "source": [
    "bestPipeline"
   ]
  },
  {
   "cell_type": "code",
   "execution_count": 914,
   "id": "67a54d42",
   "metadata": {},
   "outputs": [
    {
     "data": {
      "text/plain": [
       "[0.8271688351066326, 0.8271688351066326]"
      ]
     },
     "execution_count": 914,
     "metadata": {},
     "output_type": "execute_result"
    }
   ],
   "source": [
    "cvModel.avgMetrics"
   ]
  },
  {
   "cell_type": "code",
   "execution_count": 915,
   "id": "4dc8b3c3",
   "metadata": {},
   "outputs": [
    {
     "name": "stdout",
     "output_type": "stream",
     "text": [
      "Area under ROC: 0.8361024186805612\n",
      "False positive rate by label:\n",
      "label 0: 0.5122887864823349\n",
      "label 1: 0.02041649652919559\n",
      "True positive rate by label:\n",
      "label 0: 0.9795835034708044\n",
      "label 1: 0.4877112135176651\n",
      "Precision by label:\n",
      "label 0: 0.7824527071102414\n",
      "label 1: 0.927007299270073\n",
      "Recall by label:\n",
      "label 0: 0.9795835034708044\n",
      "label 1: 0.4877112135176651\n",
      "F-measure by label:\n",
      "label 0: 0.8699909338168632\n",
      "label 1: 0.6391545042778057\n",
      "Accuracy: 0.808850973073847\n",
      "FPR: 0.34155625608537743\n",
      "TPR: 0.808850973073847\n",
      "F-measure: 0.789865892158678\n",
      "Precision: 0.8326286812483648\n",
      "Recall: 0.808850973073847\n"
     ]
    }
   ],
   "source": [
    "trainingSummary = cvModel.bestModel.summary # Creamos una variable que es igual al nombre del modelo .bestModel y .summary\n",
    "metrics(trainingSummary) "
   ]
  },
  {
   "cell_type": "markdown",
   "id": "59949f66",
   "metadata": {},
   "source": [
    "**<center><span style=\"font-family:Cooper Black; font-size:2em;color:blue\">REGRESIÓN LOGÍSTICA</span> </center>**"
   ]
  },
  {
   "cell_type": "markdown",
   "id": "7667cbab",
   "metadata": {},
   "source": [
    " <span style=\"font-family:Comic Sans MS; font-size:1em;color:black\">\n",
    "\n",
    "\n",
    "\n",
    "\n",
    "Este modelo utiliza una función logit para calcular la probabilidad de que una observación pertenezca a una clase particular. Sin embargo al momento de escribir, PySpark ML solo nos admite problemas de clasificación binaria. </span>\n",
    "\n",
    "\n",
    "\n"
   ]
  },
  {
   "cell_type": "code",
   "execution_count": 916,
   "id": "8f82dbd5",
   "metadata": {},
   "outputs": [],
   "source": [
    "def metrics(trainingSummary):\n",
    "\n",
    "    # for multiclass, we can inspect metrics on a per-label basis\n",
    "\n",
    "    print(\"Area under ROC: %s\" % (trainingSummary.areaUnderROC))\n",
    "\n",
    "    print(\"False positive rate by label:\")\n",
    "    for i, rate in enumerate(trainingSummary.falsePositiveRateByLabel):\n",
    "        print(\"label %d: %s\" % (i, rate))\n",
    "\n",
    "    print(\"True positive rate by label:\")\n",
    "    for i, rate in enumerate(trainingSummary.truePositiveRateByLabel):\n",
    "        print(\"label %d: %s\" % (i, rate))\n",
    "\n",
    "    print(\"Precision by label:\")\n",
    "    for i, prec in enumerate(trainingSummary.precisionByLabel):\n",
    "        print(\"label %d: %s\" % (i, prec))\n",
    "\n",
    "    print(\"Recall by label:\")\n",
    "    for i, rec in enumerate(trainingSummary.recallByLabel):\n",
    "        print(\"label %d: %s\" % (i, rec))\n",
    "\n",
    "    print(\"F-measure by label:\")\n",
    "    for i, f in enumerate(trainingSummary.fMeasureByLabel()):\n",
    "        print(\"label %d: %s\" % (i, f))\n",
    "\n",
    "    accuracy = trainingSummary.accuracy\n",
    "    falsePositiveRate = trainingSummary.weightedFalsePositiveRate\n",
    "    truePositiveRate = trainingSummary.weightedTruePositiveRate\n",
    "    fMeasure = trainingSummary.weightedFMeasure()\n",
    "    precision = trainingSummary.weightedPrecision\n",
    "    recall = trainingSummary.weightedRecall\n",
    "    print(\"Accuracy: %s\\nFPR: %s\\nTPR: %s\\nF-measure: %s\\nPrecision: %s\\nRecall: %s\"\n",
    "          % (accuracy, falsePositiveRate, truePositiveRate, fMeasure, precision, recall))"
   ]
  },
  {
   "cell_type": "code",
   "execution_count": 917,
   "id": "3c74aa9b",
   "metadata": {},
   "outputs": [],
   "source": [
    "from pyspark.ml.classification import LogisticRegression\n",
    "logr = LogisticRegression(featuresCol='features', labelCol='Leave_index')"
   ]
  },
  {
   "cell_type": "code",
   "execution_count": 918,
   "id": "d6c57c66",
   "metadata": {},
   "outputs": [],
   "source": [
    "logr_model=logr.fit(df3_train)"
   ]
  },
  {
   "cell_type": "code",
   "execution_count": 919,
   "id": "f1b486b0",
   "metadata": {},
   "outputs": [
    {
     "name": "stdout",
     "output_type": "stream",
     "text": [
      "Area under ROC: 0.708842412872367\n",
      "False positive rate by label:\n",
      "label 0: 0.6505376344086021\n",
      "label 1: 0.13434054716210697\n",
      "True positive rate by label:\n",
      "label 0: 0.865659452837893\n",
      "label 1: 0.34946236559139787\n",
      "Precision by label:\n",
      "label 0: 0.7145264577013819\n",
      "label 1: 0.5803571428571429\n",
      "Recall by label:\n",
      "label 0: 0.865659452837893\n",
      "label 1: 0.34946236559139787\n",
      "F-measure by label:\n",
      "label 0: 0.7828655834564255\n",
      "label 1: 0.436241610738255\n",
      "Accuracy: 0.6864836043721674\n",
      "FPR: 0.47136178594287653\n",
      "TPR: 0.6864836043721675\n",
      "F-measure: 0.6625498243311102\n",
      "Precision: 0.6679552905653651\n",
      "Recall: 0.6864836043721675\n"
     ]
    }
   ],
   "source": [
    "trainingSummary = logr_model.summary\n",
    "metrics(trainingSummary)"
   ]
  },
  {
   "cell_type": "code",
   "execution_count": 920,
   "id": "9d3e1aef",
   "metadata": {},
   "outputs": [
    {
     "data": {
      "text/plain": [
       "{Param(parent='LogisticRegression_7f16cd19c9a5', name='aggregationDepth', doc='suggested depth for treeAggregate (>= 2).'): 2,\n",
       " Param(parent='LogisticRegression_7f16cd19c9a5', name='elasticNetParam', doc='the ElasticNet mixing parameter, in range [0, 1]. For alpha = 0, the penalty is an L2 penalty. For alpha = 1, it is an L1 penalty.'): 0.0,\n",
       " Param(parent='LogisticRegression_7f16cd19c9a5', name='family', doc='The name of family which is a description of the label distribution to be used in the model. Supported options: auto, binomial, multinomial'): 'auto',\n",
       " Param(parent='LogisticRegression_7f16cd19c9a5', name='featuresCol', doc='features column name.'): 'features',\n",
       " Param(parent='LogisticRegression_7f16cd19c9a5', name='fitIntercept', doc='whether to fit an intercept term.'): True,\n",
       " Param(parent='LogisticRegression_7f16cd19c9a5', name='labelCol', doc='label column name.'): 'Leave_index',\n",
       " Param(parent='LogisticRegression_7f16cd19c9a5', name='maxBlockSizeInMB', doc='maximum memory in MB for stacking input data into blocks. Data is stacked within partitions. If more than remaining data size in a partition then it is adjusted to the data size. Default 0.0 represents choosing optimal value, depends on specific algorithm. Must be >= 0.'): 0.0,\n",
       " Param(parent='LogisticRegression_7f16cd19c9a5', name='maxIter', doc='max number of iterations (>= 0).'): 100,\n",
       " Param(parent='LogisticRegression_7f16cd19c9a5', name='predictionCol', doc='prediction column name.'): 'prediction',\n",
       " Param(parent='LogisticRegression_7f16cd19c9a5', name='probabilityCol', doc='Column name for predicted class conditional probabilities. Note: Not all models output well-calibrated probability estimates! These probabilities should be treated as confidences, not precise probabilities.'): 'probability',\n",
       " Param(parent='LogisticRegression_7f16cd19c9a5', name='rawPredictionCol', doc='raw prediction (a.k.a. confidence) column name.'): 'rawPrediction',\n",
       " Param(parent='LogisticRegression_7f16cd19c9a5', name='regParam', doc='regularization parameter (>= 0).'): 0.0,\n",
       " Param(parent='LogisticRegression_7f16cd19c9a5', name='standardization', doc='whether to standardize the training features before fitting the model.'): True,\n",
       " Param(parent='LogisticRegression_7f16cd19c9a5', name='threshold', doc='Threshold in binary classification prediction, in range [0, 1]. If threshold and thresholds are both set, they must match.e.g. if threshold is p, then thresholds must be equal to [1-p, p].'): 0.5,\n",
       " Param(parent='LogisticRegression_7f16cd19c9a5', name='tol', doc='the convergence tolerance for iterative algorithms (>= 0).'): 1e-06}"
      ]
     },
     "execution_count": 920,
     "metadata": {},
     "output_type": "execute_result"
    }
   ],
   "source": [
    "logr_model.extractParamMap()"
   ]
  },
  {
   "cell_type": "code",
   "execution_count": 921,
   "id": "5ac3bfeb",
   "metadata": {},
   "outputs": [],
   "source": [
    "from pyspark.ml.tuning import ParamGridBuilder, CrossValidator, CrossValidatorModel\n",
    "from pyspark.ml.evaluation import BinaryClassificationEvaluator\n",
    "\n",
    "predictions = logr_model.transform(df3_test)"
   ]
  },
  {
   "cell_type": "markdown",
   "id": "1737a9bc",
   "metadata": {},
   "source": [
    " <span style=\"font-family:Comic Sans MS; font-size:1em;color:black\">\n",
    "\n",
    "\n",
    "\n",
    "Evaluamos el modelo </span>\n",
    "\n",
    "\n",
    "\n",
    "\n",
    "\n"
   ]
  },
  {
   "cell_type": "code",
   "execution_count": 922,
   "id": "ee5a9417",
   "metadata": {},
   "outputs": [
    {
     "name": "stdout",
     "output_type": "stream",
     "text": [
      "areaUnderROC en test: 0.6775912262767243\n"
     ]
    }
   ],
   "source": [
    "evaluator = BinaryClassificationEvaluator(labelCol=\"Leave_index\", rawPredictionCol=\"rawPrediction\")\n",
    "print(str(evaluator.getMetricName()) + ' en test: ' + str(evaluator.evaluate(predictions)))"
   ]
  },
  {
   "cell_type": "markdown",
   "id": "77a79388",
   "metadata": {},
   "source": [
    " <span style=\"font-family:Comic Sans MS; font-size:1em;color:black\">\n",
    "\n",
    "\n",
    "\n",
    "Nuestra área bajo la cruva ROC del modelo de Regresión lineal de clasificación es del 67,75%  </span>\n"
   ]
  },
  {
   "cell_type": "markdown",
   "id": "f46eab81",
   "metadata": {},
   "source": [
    " <span style=\"font-family:Comic Sans MS; font-size:1em;color:black\">\n",
    "\n",
    "\n",
    "Ahora aplicamos un Logistic Regresion Base Model pero en este caso con las variables normalizadas y mostramos las metricas anteriores  </span>\n",
    "\n",
    "\n"
   ]
  },
  {
   "cell_type": "markdown",
   "id": "2441a944",
   "metadata": {},
   "source": [
    " <span style=\"font-family:Comic Sans MS; font-size:1em;color:black\">\n",
    "\n",
    "\n",
    "Para ello necesito normalizar el train y test primero ya que posteriormente cuando realice el summary lo necesitaré  </span>\n",
    "\n"
   ]
  },
  {
   "cell_type": "markdown",
   "id": "58af7f7d",
   "metadata": {},
   "source": [
    " <span style=\"font-family:Comic Sans MS; font-size:1em;color:black\">\n",
    "\n",
    "Procedemos a la transformación \"normalizer\" la cual aplicamos a nuestro conjunto de train (entrenamiento) y test, esta transformacion se debe de aplicar a los dos conjuntos debido a que si realizamos un algoritmo con esta transoformacion debemos de tener tanto el train como el test normalizados, esos los tenemos a continuacion. </span>\n",
    "\n",
    "\n"
   ]
  },
  {
   "cell_type": "code",
   "execution_count": 923,
   "id": "cd4efef8",
   "metadata": {},
   "outputs": [],
   "source": [
    "from pyspark.ml.feature import Normalizer\n",
    "normalizer = Normalizer(inputCol=\"features\", outputCol=\"normalizer_features\", p=1.0)\n",
    "train_normalizer = normalizer.transform(df3_train)\n",
    "test_normalizer = normalizer.transform(df3_test)"
   ]
  },
  {
   "cell_type": "code",
   "execution_count": 924,
   "id": "d48a4ee0",
   "metadata": {},
   "outputs": [
    {
     "name": "stdout",
     "output_type": "stream",
     "text": [
      "Area under ROC: 0.6888082160247229\n",
      "False positive rate by label:\n",
      "label 0: 0.6781874039938556\n",
      "label 1: 0.10902409146590446\n",
      "True positive rate by label:\n",
      "label 0: 0.8909759085340956\n",
      "label 1: 0.32181259600614437\n",
      "Precision by label:\n",
      "label 0: 0.7119086460032626\n",
      "label 1: 0.6107871720116618\n",
      "Recall by label:\n",
      "label 0: 0.8909759085340956\n",
      "label 1: 0.32181259600614437\n",
      "F-measure by label:\n",
      "label 0: 0.7914399709829525\n",
      "label 1: 0.42152917505030174\n",
      "Accuracy: 0.6934150893095175\n",
      "FPR: 0.4806265847692775\n",
      "TPR: 0.6934150893095175\n",
      "F-measure: 0.6630411823121151\n",
      "Precision: 0.676808630237583\n",
      "Recall: 0.6934150893095175\n"
     ]
    }
   ],
   "source": [
    "logr1 = LogisticRegression(labelCol='Leave_index', featuresCol=\"normalizer_features\") # Creamos el mismo modelo, un lr LogisticReresion, la labelCol es la raceposition pero el featuresCol deesmo poner nuestra normalizer_features \n",
    "\n",
    "logr1_model_normalizer = logr1.fit(train_normalizer)\n",
    "\n",
    "# Summary\n",
    "trainingSummary = logr1_model_normalizer.summary\n",
    "metrics(trainingSummary)"
   ]
  },
  {
   "cell_type": "markdown",
   "id": "2681ce5f",
   "metadata": {},
   "source": [
    " <span style=\"font-family:Comic Sans MS; font-size:1em;color:black\">\n",
    "\n",
    "Con el train vemos como el modelo tiene un área debajo de la curva de ROC de un 68,80% por lo que ha aumentado entorno a un 1% respecto a aplicar las variables sin normalizar </span>\n",
    "\n",
    "\n"
   ]
  },
  {
   "cell_type": "code",
   "execution_count": 925,
   "id": "acfd2961",
   "metadata": {},
   "outputs": [
    {
     "name": "stdout",
     "output_type": "stream",
     "text": [
      "areaUnderROC en test: 0.6353171252055653\n"
     ]
    }
   ],
   "source": [
    "predictions = logr1_model_normalizer.transform(test_normalizer)\n",
    "\n",
    "# Evaluamos el modelo de nuevo\n",
    "evaluator = BinaryClassificationEvaluator(labelCol=\"Leave_index\", rawPredictionCol=\"rawPrediction\")\n",
    "print(str(evaluator.getMetricName()) + ' en test: ' + str(evaluator.evaluate(predictions)))"
   ]
  },
  {
   "cell_type": "markdown",
   "id": "bee419ce",
   "metadata": {},
   "source": [
    " <span style=\"font-family:Comic Sans MS; font-size:1em;color:black\">\n",
    "\n",
    "Nuestra área bajo la cruva ROC del modelo de Regresión lineal de clasificación  es del 67,75% bajo las predicciones, hemos perdido un 4% respecto a aplicar las variables sin normalizar. Ganamos en el train pero en test no estamos ganando, es una mala señal, esta teniendo overfitting, sobreajuste.</span>\n",
    "\n",
    "\n",
    "\n",
    "\n",
    "\n"
   ]
  },
  {
   "cell_type": "markdown",
   "id": "628eca27",
   "metadata": {},
   "source": [
    "**<center><span style=\"font-family:Cooper Black; font-size:2em;color:blue\">PCA</span> </center>**"
   ]
  },
  {
   "cell_type": "code",
   "execution_count": 926,
   "id": "71b9066d",
   "metadata": {},
   "outputs": [],
   "source": [
    "pca = PCA(k=4, inputCol=\"features\", outputCol='pca_features')\n",
    "model_pca = pca.fit(df3_train)\n",
    "train_pca = model_pca.transform(df3_train)\n"
   ]
  },
  {
   "cell_type": "code",
   "execution_count": 927,
   "id": "1e5c451f",
   "metadata": {},
   "outputs": [],
   "source": [
    "test_pca = model_pca.transform(df3_test)\n"
   ]
  },
  {
   "cell_type": "code",
   "execution_count": 928,
   "id": "59dde5c2",
   "metadata": {},
   "outputs": [
    {
     "name": "stdout",
     "output_type": "stream",
     "text": [
      "Area under ROC: 0.7010976297419745\n",
      "False positive rate by label:\n",
      "label 0: 0.7450076804915514\n",
      "label 1: 0.14250714577378523\n",
      "True positive rate by label:\n",
      "label 0: 0.8574928542262148\n",
      "label 1: 0.25499231950844853\n",
      "Precision by label:\n",
      "label 0: 0.6840390879478827\n",
      "label 1: 0.48751835535976507\n",
      "Recall by label:\n",
      "label 0: 0.8574928542262148\n",
      "label 1: 0.25499231950844853\n",
      "F-measure by label:\n",
      "label 0: 0.7610074288820439\n",
      "label 1: 0.33484619263741805\n",
      "Accuracy: 0.6483604372167422\n",
      "FPR: 0.5358752634820788\n",
      "TPR: 0.6483604372167422\n",
      "F-measure: 0.6130836939872151\n",
      "Precision: 0.6158252799420898\n",
      "Recall: 0.6483604372167422\n"
     ]
    }
   ],
   "source": [
    "logr2 = LogisticRegression(labelCol=\"Leave_index\", featuresCol=\"pca_features\")\n",
    "\n",
    "# Entrenamos el modelo con train_pca\n",
    "logr2_model_pca = logr2.fit(train_pca)\n",
    "\n",
    "#Summary\n",
    "trainingSummary = logr2_model_pca.summary\n",
    "metrics(trainingSummary)"
   ]
  },
  {
   "cell_type": "code",
   "execution_count": 929,
   "id": "09b3d24e",
   "metadata": {},
   "outputs": [
    {
     "name": "stdout",
     "output_type": "stream",
     "text": [
      "areaUnderROC en test: 0.7021256500288905\n"
     ]
    }
   ],
   "source": [
    "predictions = logr2_model_pca.transform(test_pca)\n",
    "\n",
    "# Evaluamos el modelo de nuevo \n",
    "evaluator = BinaryClassificationEvaluator(labelCol=\"Leave_index\", rawPredictionCol=\"rawPrediction\")\n",
    "print(str(evaluator.getMetricName()) + ' en test: ' + str(evaluator.evaluate(predictions)))"
   ]
  },
  {
   "cell_type": "markdown",
   "id": "ac2882a3",
   "metadata": {},
   "source": [
    " <span style=\"font-family:Comic Sans MS; font-size:1em;color:black\">\n",
    "Con 5 variables nuestra área under ROC era de70,21% y con 3 es 63,53%; estamos perdiendo un 0,07% de precision reduciendo 2. Es una elección entre la precisión que estamos dispuestos a perder, las variables que estamos dispuestos a meter y el tiempo de ejecución.</span>\n",
    "\n",
    "\n",
    "\n"
   ]
  },
  {
   "cell_type": "markdown",
   "id": "99f57819",
   "metadata": {},
   "source": [
    "**<center><span style=\"font-family:Cooper Black; font-size:2em;color:blue\">STANDARIZATION</span> </center>**\n"
   ]
  },
  {
   "cell_type": "markdown",
   "id": "f71a66c3",
   "metadata": {},
   "source": [
    " <span style=\"font-family:Comic Sans MS; font-size:1em;color:black\">\n",
    "La estandarización de variables continuas ayuda no solo a comprender mejor las relaciones entre las características, sino que también ayuda a la eficiencia computacional.</span>\n",
    "\n",
    "\n"
   ]
  },
  {
   "cell_type": "code",
   "execution_count": 930,
   "id": "baa3bb5c",
   "metadata": {},
   "outputs": [],
   "source": [
    "from pyspark.ml. feature import StandardScaler\n",
    "scaler=StandardScaler(inputCol=\"features\",outputCol=\"scaledFeatures\",withStd=True,withMean=False)"
   ]
  },
  {
   "cell_type": "markdown",
   "id": "a8eb1594",
   "metadata": {},
   "source": [
    " <span style=\"font-family:Comic Sans MS; font-size:1em;color:black\">\n",
    "\n",
    "Estandarizamos la columna de features</span>\n",
    "\n",
    "\n"
   ]
  },
  {
   "cell_type": "code",
   "execution_count": 931,
   "id": "a32044ff",
   "metadata": {},
   "outputs": [],
   "source": [
    "scaler_model=scaler.fit(df3_train)\n",
    "scaled_training_data=scaler_model.transform(df3_train)\n",
    "scaled_test_data=scaler_model.transform(df3_test)"
   ]
  },
  {
   "cell_type": "markdown",
   "id": "50a3f8d4",
   "metadata": {},
   "source": [
    " <span style=\"font-family:Comic Sans MS; font-size:1em;color:black\">\n",
    "\n",
    "\n",
    "\n",
    "Volvemos a hacer el modelo y lo ejecutamos con los nuevos datos</span>\n"
   ]
  },
  {
   "cell_type": "code",
   "execution_count": 932,
   "id": "17ebd3b3",
   "metadata": {},
   "outputs": [],
   "source": [
    "scaled_lr=LogisticRegression(labelCol='Leave_index')\n",
    "scaled_lr_model = scaled_lr.fit(scaled_training_data)\n",
    "scaled_predictions=scaled_lr_model.transform(scaled_test_data)"
   ]
  },
  {
   "cell_type": "markdown",
   "id": "9bb9e07f",
   "metadata": {},
   "source": [
    " <span style=\"font-family:Comic Sans MS; font-size:1em;color:black\">\n",
    "\n",
    "\n",
    "\n",
    "Evaluamos el modelo con el método de BinaryClassification</span>\n",
    "\n"
   ]
  },
  {
   "cell_type": "code",
   "execution_count": 933,
   "id": "4eb48e4c",
   "metadata": {},
   "outputs": [
    {
     "name": "stdout",
     "output_type": "stream",
     "text": [
      "AreaUnderROC 0.6775912262767243\n"
     ]
    }
   ],
   "source": [
    "scaled_evaluator= BinaryClassificationEvaluator(labelCol='Leave_index')\n",
    "print('AreaUnderROC',scaled_evaluator.evaluate(scaled_predictions,{scaled_evaluator.metricName: 'areaUnderROC'}))\n"
   ]
  },
  {
   "cell_type": "markdown",
   "id": "b4fb9a37",
   "metadata": {},
   "source": [
    " <span style=\"font-family:Comic Sans MS; font-size:1em;color:black\">\n",
    "\n",
    "\n",
    "Después de dicha mejora la precisión de nuestro modelo ha aumentado hasta un 67,75% en el AreaUnderROC</span>\n",
    "\n",
    "\n"
   ]
  },
  {
   "cell_type": "markdown",
   "id": "789e1215",
   "metadata": {},
   "source": [
    "**<center><span style=\"font-family:Cooper Black; font-size:2em;color:blue\">DISCRETIZAR</span> </center>**\n"
   ]
  },
  {
   "cell_type": "markdown",
   "id": "decf4cda",
   "metadata": {},
   "source": [
    " <span style=\"font-family:Comic Sans MS; font-size:1em;color:black\">\n",
    "\n",
    "Como tenemos la variable edad que es una variable continua en nuestro dataset, es difícil para nuestro modelo sacar alguna conclusión de la relación entre la misma y la salida.\n",
    "\n",
    "Es por eso que vamos a realizar un ejemplo de discretización. Creamos un conjunto de datos de ejemplo y lo metemos en un DataFrame</span>\n",
    "\n",
    "\n"
   ]
  },
  {
   "cell_type": "code",
   "execution_count": 934,
   "id": "9f6580f6",
   "metadata": {},
   "outputs": [
    {
     "name": "stdout",
     "output_type": "stream",
     "text": [
      "+-----------+---------+-----------+---+------------+-----------------+---------------+-------------------------------+-----------+--------------------+-------+\n",
      "|JoiningYear|     City|PaymentTier|Age|Gender_index|EverBenched_index|Education_index|ExperienceInCurrentDomain_index|Leave_index|            features|Age_dis|\n",
      "+-----------+---------+-----------+---+------------+-----------------+---------------+-------------------------------+-----------+--------------------+-------+\n",
      "|       2017|Bangalore|          3| 34|         0.0|              0.0|            0.0|                            5.0|        0.0|[2017.0,3.0,34.0,...|    6.0|\n",
      "|       2013|     Pune|          1| 28|         1.0|              0.0|            0.0|                            3.0|        1.0|[2013.0,1.0,28.0,...|    4.0|\n",
      "|       2014|New Delhi|          3| 38|         1.0|              0.0|            0.0|                            0.0|        0.0|[2014.0,3.0,38.0,...|    7.0|\n",
      "|       2016|Bangalore|          3| 27|         0.0|              0.0|            1.0|                            2.0|        1.0|[2016.0,3.0,27.0,...|    3.0|\n",
      "|       2017|     Pune|          3| 24|         0.0|              1.0|            1.0|                            0.0|        1.0|[2017.0,3.0,24.0,...|    1.0|\n",
      "|       2016|Bangalore|          3| 22|         0.0|              0.0|            0.0|                            5.0|        0.0|[2016.0,3.0,22.0,...|    0.0|\n",
      "|       2015|New Delhi|          3| 38|         0.0|              0.0|            0.0|                            5.0|        0.0|[2015.0,3.0,38.0,...|    7.0|\n",
      "|       2016|Bangalore|          3| 34|         1.0|              0.0|            0.0|                            0.0|        1.0|[2016.0,3.0,34.0,...|    6.0|\n",
      "|       2016|     Pune|          3| 23|         0.0|              0.0|            0.0|                            4.0|        0.0|[2016.0,3.0,23.0,...|    0.0|\n",
      "|       2017|New Delhi|          2| 37|         0.0|              0.0|            1.0|                            0.0|        0.0|[2017.0,2.0,37.0,...|    6.0|\n",
      "|       2012|Bangalore|          3| 27|         0.0|              0.0|            1.0|                            2.0|        1.0|[2012.0,3.0,27.0,...|    3.0|\n",
      "|       2016|     Pune|          3| 34|         0.0|              0.0|            0.0|                            3.0|        0.0|[2016.0,3.0,34.0,...|    6.0|\n",
      "|       2018|     Pune|          3| 32|         0.0|              1.0|            0.0|                            2.0|        1.0|[2018.0,3.0,32.0,...|    5.0|\n",
      "|       2016|Bangalore|          3| 39|         0.0|              0.0|            0.0|                            0.0|        0.0|(7,[0,1,2],[2016....|    7.0|\n",
      "|       2012|Bangalore|          3| 37|         0.0|              0.0|            0.0|                            1.0|        0.0|[2012.0,3.0,37.0,...|    6.0|\n",
      "|       2017|Bangalore|          1| 29|         0.0|              0.0|            0.0|                            3.0|        0.0|[2017.0,1.0,29.0,...|    4.0|\n",
      "|       2014|Bangalore|          3| 34|         1.0|              0.0|            0.0|                            0.0|        0.0|[2014.0,3.0,34.0,...|    6.0|\n",
      "|       2014|     Pune|          3| 34|         0.0|              0.0|            0.0|                            1.0|        0.0|[2014.0,3.0,34.0,...|    6.0|\n",
      "|       2015|     Pune|          2| 30|         1.0|              0.0|            0.0|                            5.0|        1.0|[2015.0,2.0,30.0,...|    4.0|\n",
      "|       2016|New Delhi|          2| 22|         1.0|              0.0|            0.0|                            5.0|        1.0|[2016.0,2.0,22.0,...|    0.0|\n",
      "+-----------+---------+-----------+---+------------+-----------------+---------------+-------------------------------+-----------+--------------------+-------+\n",
      "only showing top 20 rows\n",
      "\n"
     ]
    }
   ],
   "source": [
    "\n",
    "from pyspark.ml.feature import QuantileDiscretizer\n",
    "\n",
    "discretizer = QuantileDiscretizer(numBuckets=10, inputCol=\"Age\", outputCol=\"Age_dis\")\n",
    "\n",
    "result = discretizer.fit(df3).transform(df3)\n",
    "result.show()"
   ]
  },
  {
   "cell_type": "markdown",
   "id": "42287aa2",
   "metadata": {},
   "source": [
    "<span style=\"font-family:Comic Sans MS; font-size:1em;color:black\">\n",
    "\n",
    "\n",
    "Volvemos a ejecutar nuestro modelo una vez hemos cambiado nuestra variable edad de tipo continua a discreta</span>\n"
   ]
  },
  {
   "cell_type": "code",
   "execution_count": 935,
   "id": "5137faf5",
   "metadata": {},
   "outputs": [],
   "source": [
    "import pyspark.ml.classification as cl\n",
    "\n",
    "classifier=cl.RandomForestClassifier(\n",
    "   numTrees=20,\n",
    "   maxDepth=10, \n",
    "    labelCol='Leave_index')"
   ]
  },
  {
   "cell_type": "markdown",
   "id": "bcae7182",
   "metadata": {},
   "source": [
    "\n",
    "<span style=\"font-family:Comic Sans MS; font-size:1em;color:black\">\n",
    "\n",
    "\n",
    "\n",
    "Creamos el pipeline</span>\n",
    "\n"
   ]
  },
  {
   "cell_type": "code",
   "execution_count": 936,
   "id": "bf36a202",
   "metadata": {},
   "outputs": [],
   "source": [
    "\n",
    "from pyspark.ml import Pipeline\n",
    "pipeline_estand = Pipeline(stages=[ discretizer,classifier])"
   ]
  },
  {
   "cell_type": "code",
   "execution_count": 937,
   "id": "720c867d",
   "metadata": {},
   "outputs": [],
   "source": [
    "model_estand = pipeline_estand.fit(df3_train)"
   ]
  },
  {
   "cell_type": "code",
   "execution_count": 938,
   "id": "500af0fc",
   "metadata": {},
   "outputs": [],
   "source": [
    "test_model_estand = model_estand.transform(df3_test)"
   ]
  },
  {
   "cell_type": "code",
   "execution_count": 939,
   "id": "8ae813f1",
   "metadata": {},
   "outputs": [
    {
     "data": {
      "text/plain": [
       "[Row(JoiningYear=2012, City='Bangalore', PaymentTier=3, Age=23, Gender_index=0.0, EverBenched_index=0.0, Education_index=0.0, ExperienceInCurrentDomain_index=4.0, Leave_index=0.0, features=DenseVector([2012.0, 3.0, 23.0, 4.0, 0.0, 0.0, 0.0]), Age_dis=0.0, rawPrediction=DenseVector([17.4147, 2.5853]), probability=DenseVector([0.8707, 0.1293]), prediction=0.0)]"
      ]
     },
     "execution_count": 939,
     "metadata": {},
     "output_type": "execute_result"
    }
   ],
   "source": [
    "test_model_estand.take(1)"
   ]
  },
  {
   "cell_type": "markdown",
   "id": "a75fb860",
   "metadata": {},
   "source": [
    "\n",
    "<span style=\"font-family:Comic Sans MS; font-size:1em;color:black\">\n",
    "\n",
    "\n",
    "\n",
    "\n",
    "Evaluamos el modelo tras estandarizar las variables categoricas</span>\n",
    "\n",
    "\n"
   ]
  },
  {
   "cell_type": "code",
   "execution_count": 940,
   "id": "11d28e36",
   "metadata": {},
   "outputs": [
    {
     "name": "stdout",
     "output_type": "stream",
     "text": [
      "0.8383011467176323\n"
     ]
    }
   ],
   "source": [
    "# evaluamos el modelo tras estandarizar las variables categoricas\n",
    "import pyspark.ml.evaluation as ev\n",
    "evaluator_estand = ev.BinaryClassificationEvaluator(\n",
    "    rawPredictionCol='probability', \n",
    "    labelCol='Leave_index')\n",
    "\n",
    "print(evaluator_estand.evaluate(test_model_estand, {evaluator_estand.metricName: 'areaUnderROC'}))"
   ]
  },
  {
   "cell_type": "markdown",
   "id": "36ef6e45",
   "metadata": {},
   "source": [
    "\n",
    "<span style=\"font-family:Comic Sans MS; font-size:1em;color:black\">\n",
    "\n",
    "\n",
    "\n",
    "\n",
    "\n",
    "Nuestra precisión ha aumentado en un 10% en relación a nuestro primer modelo </span>\n",
    "\n",
    "\n"
   ]
  },
  {
   "cell_type": "markdown",
   "id": "ed5f7c57",
   "metadata": {},
   "source": [
    "**<center><span style=\"font-family:Cooper Black; font-size:2em;color:blue\">PCA</span> </center>**\n"
   ]
  },
  {
   "cell_type": "markdown",
   "id": "638450bd",
   "metadata": {},
   "source": [
    "\n",
    "<span style=\"font-family:Comic Sans MS; font-size:1em;color:black\">\n",
    "\n",
    "\n",
    "\n",
    "\n",
    "\n",
    "\n",
    "Principal Component Analysis (PCA) es un método estadístico que permite simplificar la complejidad de espacios muestrales con muchas dimensiones a la vez que conserva su información. </span>\n",
    "\n",
    "\n",
    "\n"
   ]
  },
  {
   "cell_type": "code",
   "execution_count": 941,
   "id": "159dfbb4",
   "metadata": {},
   "outputs": [],
   "source": [
    "from pyspark.ml. feature import PCA\n",
    "pca = PCA(k=4, inputCol=\"features\", outputCol=\" pcafeatures\")\n",
    "pca_model=pca.fit(df3_train)\n",
    "pca_training_data=pca_model.transform(df3_train)\n",
    "pca_test_data=pca_model.transform(df3_test)\n",
    "\n"
   ]
  },
  {
   "cell_type": "code",
   "execution_count": 942,
   "id": "b52bc1f2",
   "metadata": {},
   "outputs": [],
   "source": [
    "pca_lr = LogisticRegression(labelCol='Leave_index')\n",
    "pca_lr_model=pca_lr.fit(pca_training_data)\n",
    "pca_predictions=pca_lr_model.transform(pca_test_data)"
   ]
  },
  {
   "cell_type": "code",
   "execution_count": 943,
   "id": "74749f8a",
   "metadata": {},
   "outputs": [
    {
     "name": "stdout",
     "output_type": "stream",
     "text": [
      "AreaUnderROC: 0.6775912262767243\n",
      "AreaUnderPR: 0.4880219223059582\n"
     ]
    }
   ],
   "source": [
    "\n",
    "pca_evaluator=BinaryClassificationEvaluator(labelCol=\"Leave_index\")\n",
    "print(\"AreaUnderROC:\",pca_evaluator.evaluate(pca_predictions,{pca_evaluator.metricName:\"areaUnderROC\"}))\n",
    "print(\"AreaUnderPR:\",pca_evaluator.evaluate(pca_predictions,{pca_evaluator.metricName:'areaUnderPR'}))"
   ]
  },
  {
   "cell_type": "markdown",
   "id": "2adf76bb",
   "metadata": {},
   "source": [
    "<span style=\"font-family:Comic Sans MS; font-size:1em;color:black\">\n",
    "\n",
    "\n",
    "\n",
    "\n",
    "\n",
    "Lo hemos implementado en el modelo de regresión logística para ver si así mejorabamos de forma más considerable nuestro modelo menos preciso y después de aplicar dicho método hemos mejorado un 8% nuestro modelo en comparación a su primero ejecución </span>\n",
    " "
   ]
  },
  {
   "cell_type": "markdown",
   "id": "0d15c914",
   "metadata": {},
   "source": [
    "**<center><span style=\"font-family:Cooper Black; font-size:2em;color:blue\">CROSS VALIDATOR</span> </center>**\n",
    "\n"
   ]
  },
  {
   "cell_type": "markdown",
   "id": "a6304edb",
   "metadata": {},
   "source": [
    "<span style=\"font-family:Comic Sans MS; font-size:1em;color:black\">\n",
    "\n",
    "\n",
    "\n",
    "La validación cruzada o cross-validation es una técnica utilizada para evaluar los resultados de un análisis estadístico y garantizar que son independientes de la partición entre datos de entrenamiento y prueba y de esta manera evitar el overfitting</span>\n",
    " \n",
    "\n"
   ]
  },
  {
   "cell_type": "code",
   "execution_count": 944,
   "id": "75f46b29",
   "metadata": {},
   "outputs": [
    {
     "data": {
      "text/plain": [
       "[0.7078232423687942,\n",
       " 0.7041549226178818,\n",
       " 0.7041383581979614,\n",
       " 0.7041383581979614,\n",
       " 0.7078232423687942,\n",
       " 0.7053196936231912,\n",
       " 0.7053210304078891,\n",
       " 0.7053210304078891,\n",
       " 0.7078232423687942,\n",
       " 0.7071351915522303,\n",
       " 0.7071610903641614,\n",
       " 0.7071610903641614,\n",
       " 0.7078232423687942,\n",
       " 0.7072510282595754,\n",
       " 0.7073300410777501,\n",
       " 0.7073300410777501]"
      ]
     },
     "execution_count": 944,
     "metadata": {},
     "output_type": "execute_result"
    }
   ],
   "source": [
    "lr = LogisticRegression(labelCol='Leave_index')\n",
    "from pyspark.ml.tuning import ParamGridBuilder, CrossValidator\n",
    "# Creamos ParamGrid para Cross Validation\n",
    "paramGrid = (ParamGridBuilder()\n",
    "            .addGrid(lr.regParam, [0.01, 0.1, 0.5, 1.0])\n",
    "            .addGrid(lr.maxIter, [1, 5, 10, 20])\n",
    "            .build())\n",
    "# Creamos 5-fold CrossValidator\n",
    "cv = CrossValidator(estimator=lr, estimatorParamMaps=paramGrid, evaluator=evaluator, numFolds=5)\n",
    "\n",
    "# Ejecutamos cross validations\n",
    "cvModel = cv.fit(df3_train)\n",
    "\n",
    "cvModel.avgMetrics"
   ]
  },
  {
   "cell_type": "markdown",
   "id": "937766da",
   "metadata": {},
   "source": [
    "<span style=\"font-family:Comic Sans MS; font-size:1em;color:black\">\n",
    "\n",
    "\n",
    "\n",
    "\n",
    "Ahora queremos selecionar el mejor modelo, lo cual lo podemos realizar de la siguiente forma:</span>\n",
    " \n"
   ]
  },
  {
   "cell_type": "markdown",
   "id": "4331843b",
   "metadata": {},
   "source": [
    "<span style=\"font-family:Comic Sans MS; font-size:1em;color:black\">\n",
    "\n",
    "\n",
    "\n",
    "Creamos una variable que es igual al nombre del modelo .bestModel y .summary</span>\n",
    " \n"
   ]
  },
  {
   "cell_type": "code",
   "execution_count": 945,
   "id": "f09e9405",
   "metadata": {},
   "outputs": [],
   "source": [
    "trainingSummary = cvModel.bestModel.summary "
   ]
  },
  {
   "cell_type": "code",
   "execution_count": 946,
   "id": "09df59e9",
   "metadata": {},
   "outputs": [
    {
     "name": "stdout",
     "output_type": "stream",
     "text": [
      "Area under ROC: 0.710911974479066\n",
      "False positive rate by label:\n",
      "label 0: 0.521505376344086\n",
      "label 1: 0.19436504695794202\n",
      "True positive rate by label:\n",
      "label 0: 0.805634953042058\n",
      "label 1: 0.478494623655914\n",
      "Precision by label:\n",
      "label 0: 0.7439668174962293\n",
      "label 1: 0.5668789808917197\n",
      "Recall by label:\n",
      "label 0: 0.805634953042058\n",
      "label 1: 0.478494623655914\n",
      "F-measure by label:\n",
      "label 0: 0.7735738090570476\n",
      "label 1: 0.5189504373177842\n",
      "Accuracy: 0.6920821114369502\n",
      "FPR: 0.40795253473897813\n",
      "TPR: 0.6920821114369502\n",
      "F-measure: 0.6851921428335017\n",
      "Precision: 0.6824983122285483\n",
      "Recall: 0.6920821114369502\n"
     ]
    }
   ],
   "source": [
    "\n",
    "metrics(trainingSummary)"
   ]
  },
  {
   "cell_type": "markdown",
   "id": "540cda2f",
   "metadata": {},
   "source": [
    "<span style=\"font-family:Comic Sans MS; font-size:1em;color:black\">\n",
    "\n",
    "\n",
    "\n",
    "Podemos observar que el mejor modelo que hemos creado mediane el algoritmo de LR, nos genera una área bajo la curva ROC del 70,09% en training\n",
    "\n",
    "Para poder conocer los parámetros con los cuales hemos creado/realizado el mejor modelo, creamos la siguiente sentencia:</span>\n",
    " \n"
   ]
  },
  {
   "cell_type": "code",
   "execution_count": 947,
   "id": "cc15d1d9",
   "metadata": {},
   "outputs": [
    {
     "data": {
      "text/plain": [
       "{Param(parent='LogisticRegression_612e820b33c7', name='aggregationDepth', doc='suggested depth for treeAggregate (>= 2).'): 2,\n",
       " Param(parent='LogisticRegression_612e820b33c7', name='elasticNetParam', doc='the ElasticNet mixing parameter, in range [0, 1]. For alpha = 0, the penalty is an L2 penalty. For alpha = 1, it is an L1 penalty.'): 0.0,\n",
       " Param(parent='LogisticRegression_612e820b33c7', name='family', doc='The name of family which is a description of the label distribution to be used in the model. Supported options: auto, binomial, multinomial'): 'auto',\n",
       " Param(parent='LogisticRegression_612e820b33c7', name='featuresCol', doc='features column name.'): 'features',\n",
       " Param(parent='LogisticRegression_612e820b33c7', name='fitIntercept', doc='whether to fit an intercept term.'): True,\n",
       " Param(parent='LogisticRegression_612e820b33c7', name='labelCol', doc='label column name.'): 'Leave_index',\n",
       " Param(parent='LogisticRegression_612e820b33c7', name='maxBlockSizeInMB', doc='maximum memory in MB for stacking input data into blocks. Data is stacked within partitions. If more than remaining data size in a partition then it is adjusted to the data size. Default 0.0 represents choosing optimal value, depends on specific algorithm. Must be >= 0.'): 0.0,\n",
       " Param(parent='LogisticRegression_612e820b33c7', name='maxIter', doc='max number of iterations (>= 0).'): 1,\n",
       " Param(parent='LogisticRegression_612e820b33c7', name='predictionCol', doc='prediction column name.'): 'prediction',\n",
       " Param(parent='LogisticRegression_612e820b33c7', name='probabilityCol', doc='Column name for predicted class conditional probabilities. Note: Not all models output well-calibrated probability estimates! These probabilities should be treated as confidences, not precise probabilities.'): 'probability',\n",
       " Param(parent='LogisticRegression_612e820b33c7', name='rawPredictionCol', doc='raw prediction (a.k.a. confidence) column name.'): 'rawPrediction',\n",
       " Param(parent='LogisticRegression_612e820b33c7', name='regParam', doc='regularization parameter (>= 0).'): 0.01,\n",
       " Param(parent='LogisticRegression_612e820b33c7', name='standardization', doc='whether to standardize the training features before fitting the model.'): True,\n",
       " Param(parent='LogisticRegression_612e820b33c7', name='threshold', doc='Threshold in binary classification prediction, in range [0, 1]. If threshold and thresholds are both set, they must match.e.g. if threshold is p, then thresholds must be equal to [1-p, p].'): 0.5,\n",
       " Param(parent='LogisticRegression_612e820b33c7', name='tol', doc='the convergence tolerance for iterative algorithms (>= 0).'): 1e-06}"
      ]
     },
     "execution_count": 947,
     "metadata": {},
     "output_type": "execute_result"
    }
   ],
   "source": [
    "cvModel.bestModel.extractParamMap() "
   ]
  },
  {
   "cell_type": "code",
   "execution_count": 987,
   "id": "eb8b86ac",
   "metadata": {},
   "outputs": [
    {
     "name": "stdout",
     "output_type": "stream",
     "text": [
      "areaUnderROC en test: 0.6810080448019913\n"
     ]
    }
   ],
   "source": [
    "predictions = cvModel.bestModel.transform(df3_test)\n",
    "\n",
    "# Evaluamos el modelo\n",
    "evaluator = BinaryClassificationEvaluator(labelCol=\"Leave_index\", rawPredictionCol=\"rawPrediction\")\n",
    "print(str(evaluator.getMetricName()) + ' en test: ' + str(evaluator.evaluate(predictions)))"
   ]
  },
  {
   "cell_type": "markdown",
   "id": "4872b744",
   "metadata": {},
   "source": [
    "<span style=\"font-family:Comic Sans MS; font-size:1em;color:black\">\n",
    "\n",
    "El área under ROC del mejor modelo es del 68,81%, este ha sido el mejor resultado que hemos obtenido gracias al paramGrid, que es un resultado ligeramente mejor que el que hemos obtenido anteriormente con este mismo algoritmo, que era de 67%</span>\n",
    " \n",
    "\n",
    "\n"
   ]
  },
  {
   "cell_type": "code",
   "execution_count": 949,
   "id": "d3817365",
   "metadata": {
    "scrolled": true
   },
   "outputs": [
    {
     "name": "stdout",
     "output_type": "stream",
     "text": [
      "              precision    recall  f1-score   support\n",
      "\n",
      "         0.0       0.71      0.87      0.78      2449\n",
      "         1.0       0.58      0.35      0.44      1302\n",
      "\n",
      "    accuracy                           0.69      3751\n",
      "   macro avg       0.65      0.61      0.61      3751\n",
      "weighted avg       0.67      0.69      0.66      3751\n",
      "\n"
     ]
    }
   ],
   "source": [
    "import sklearn \n",
    "from pyspark.ml.classification import RandomForestClassifier\n",
    "\n",
    "\n",
    "lrModel = lr.fit(df3_train)\n",
    "predictions_train = lrModel.transform(df3_train)\n",
    "\n",
    "y_true = predictions_train.select(['Leave_index']).collect()\n",
    "y_pred = predictions_train.select(['prediction']).collect()\n",
    "\n",
    "from sklearn.metrics import classification_report, confusion_matrix\n",
    "print(classification_report(y_true, y_pred))\n",
    "cnf_matrix = confusion_matrix(y_true, y_pred,labels=[0,1])"
   ]
  },
  {
   "cell_type": "code",
   "execution_count": 950,
   "id": "4aa45fb5",
   "metadata": {},
   "outputs": [
    {
     "data": {
      "image/png": "[encoded data removed]",
      "text/plain": [
       "<Figure size 432x288 with 2 Axes>"
      ]
     },
     "metadata": {},
     "output_type": "display_data"
    }
   ],
   "source": [
    "import seaborn as sns\n",
    "\n",
    "group_names = ['True Neg','False Pos','False Neg','True Pos']\n",
    "\n",
    "group_counts = [\"{0:0.0f}\".format(value) for value in\n",
    "                cnf_matrix.flatten()]\n",
    "\n",
    "labels = [f\"{v1}\\n{v2}\" for v1, v2 in\n",
    "          zip(group_names,group_counts)]\n",
    "\n",
    "labels = np.asarray(labels).reshape(2,2)\n",
    "\n",
    "ax = sns.heatmap(cnf_matrix, annot=labels, fmt='', cmap='Oranges')\n",
    "\n",
    "ax.set_title('Seaborn Confusion Matrix with labels\\n\\n');\n",
    "ax.set_xlabel('\\nPredicted Values')\n",
    "ax.set_ylabel('Actual Values ');\n",
    "\n",
    "## Ticket labels - List must be in alphabetical order\n",
    "ax.xaxis.set_ticklabels(['False','True'])\n",
    "ax.yaxis.set_ticklabels(['False','True'])\n",
    "\n",
    "## Display the visualization of the Confusion Matrix.\n",
    "plt.show()"
   ]
  },
  {
   "cell_type": "markdown",
   "id": "a85db591",
   "metadata": {},
   "source": [
    "**<center><span style=\"font-family:Cooper Black; font-size:2em;color:blue\">GRADIENT BOOSTING</span> </center>**\n",
    "\n"
   ]
  },
  {
   "cell_type": "markdown",
   "id": "cac69c0f",
   "metadata": {},
   "source": [
    "<span style=\"font-family:Comic Sans MS; font-size:1em;color:black\">\n",
    "Gradient boosting o Potenciación del gradiente, es una técnica de aprendizaje automático utilizado para el análisis de la regresión y para problemas de clasificación estadística, el cual produce un modelo predictivo en forma de un conjunto de modelos de predicción débiles, típicamente árboles de decisión.</span>\n",
    " \n",
    "\n",
    "\n"
   ]
  },
  {
   "cell_type": "code",
   "execution_count": 951,
   "id": "78a02a63",
   "metadata": {},
   "outputs": [],
   "source": [
    "from pyspark.ml.classification import GBTClassifier\n",
    "\n",
    "gbt = GBTClassifier(labelCol=\"Leave_index\", featuresCol=\"features\")\n",
    "\n",
    "gbtModel = gbt.fit(df3_train)"
   ]
  },
  {
   "cell_type": "code",
   "execution_count": 952,
   "id": "4784bd14",
   "metadata": {},
   "outputs": [
    {
     "name": "stdout",
     "output_type": "stream",
     "text": [
      "areaUnderROC en test: 0.8391817414107294\n"
     ]
    }
   ],
   "source": [
    "predictions = gbtModel.transform(df3_test)\n",
    "\n",
    "# Evaluamos\n",
    "evaluator = BinaryClassificationEvaluator(labelCol=\"Leave_index\", rawPredictionCol=\"rawPrediction\")\n",
    "print(str(evaluator.getMetricName()) + ' en test: ' + str(evaluator.evaluate(predictions)))"
   ]
  },
  {
   "cell_type": "markdown",
   "id": "26ecf93e",
   "metadata": {},
   "source": [
    "<span style=\"font-family:Comic Sans MS; font-size:1em;color:black\">\n",
    "\n",
    "Tras realizar el algoritmo mencionado anteriormente optenemos que nuestro modelo tendría una precisión de un 83% </span>\n",
    " \n",
    "\n",
    "\n"
   ]
  },
  {
   "cell_type": "code",
   "execution_count": 953,
   "id": "e97fa2b7",
   "metadata": {},
   "outputs": [
    {
     "data": {
      "text/plain": [
       "{Param(parent='GBTClassifier_7eec16fd8e33', name='cacheNodeIds', doc='If false, the algorithm will pass trees to executors to match instances with nodes. If true, the algorithm will cache node IDs for each instance. Caching can speed up training of deeper trees. Users can set how often should the cache be checkpointed or disable it by setting checkpointInterval.'): False,\n",
       " Param(parent='GBTClassifier_7eec16fd8e33', name='checkpointInterval', doc='set checkpoint interval (>= 1) or disable checkpoint (-1). E.g. 10 means that the cache will get checkpointed every 10 iterations. Note: this setting will be ignored if the checkpoint directory is not set in the SparkContext.'): 10,\n",
       " Param(parent='GBTClassifier_7eec16fd8e33', name='featureSubsetStrategy', doc=\"The number of features to consider for splits at each tree node. Supported options: 'auto' (choose automatically for task: If numTrees == 1, set to 'all'. If numTrees > 1 (forest), set to 'sqrt' for classification and to 'onethird' for regression), 'all' (use all features), 'onethird' (use 1/3 of the features), 'sqrt' (use sqrt(number of features)), 'log2' (use log2(number of features)), 'n' (when n is in the range (0, 1.0], use n * number of features. When n is in the range (1, number of features), use n features). default = 'auto'\"): 'all',\n",
       " Param(parent='GBTClassifier_7eec16fd8e33', name='featuresCol', doc='features column name.'): 'features',\n",
       " Param(parent='GBTClassifier_7eec16fd8e33', name='impurity', doc='Criterion used for information gain calculation (case-insensitive). Supported options: variance'): 'variance',\n",
       " Param(parent='GBTClassifier_7eec16fd8e33', name='labelCol', doc='label column name.'): 'Leave_index',\n",
       " Param(parent='GBTClassifier_7eec16fd8e33', name='leafCol', doc='Leaf indices column name. Predicted leaf index of each instance in each tree by preorder.'): '',\n",
       " Param(parent='GBTClassifier_7eec16fd8e33', name='lossType', doc='Loss function which GBT tries to minimize (case-insensitive). Supported options: logistic'): 'logistic',\n",
       " Param(parent='GBTClassifier_7eec16fd8e33', name='maxBins', doc='Max number of bins for discretizing continuous features.  Must be >=2 and >= number of categories for any categorical feature.'): 32,\n",
       " Param(parent='GBTClassifier_7eec16fd8e33', name='maxDepth', doc='Maximum depth of the tree. (>= 0) E.g., depth 0 means 1 leaf node; depth 1 means 1 internal node + 2 leaf nodes. Must be in range [0, 30].'): 5,\n",
       " Param(parent='GBTClassifier_7eec16fd8e33', name='maxIter', doc='max number of iterations (>= 0).'): 20,\n",
       " Param(parent='GBTClassifier_7eec16fd8e33', name='maxMemoryInMB', doc='Maximum memory in MB allocated to histogram aggregation. If too small, then 1 node will be split per iteration, and its aggregates may exceed this size.'): 256,\n",
       " Param(parent='GBTClassifier_7eec16fd8e33', name='minInfoGain', doc='Minimum information gain for a split to be considered at a tree node.'): 0.0,\n",
       " Param(parent='GBTClassifier_7eec16fd8e33', name='minInstancesPerNode', doc='Minimum number of instances each child must have after split. If a split causes the left or right child to have fewer than minInstancesPerNode, the split will be discarded as invalid. Should be >= 1.'): 1,\n",
       " Param(parent='GBTClassifier_7eec16fd8e33', name='minWeightFractionPerNode', doc='Minimum fraction of the weighted sample count that each child must have after split. If a split causes the fraction of the total weight in the left or right child to be less than minWeightFractionPerNode, the split will be discarded as invalid. Should be in interval [0.0, 0.5).'): 0.0,\n",
       " Param(parent='GBTClassifier_7eec16fd8e33', name='predictionCol', doc='prediction column name.'): 'prediction',\n",
       " Param(parent='GBTClassifier_7eec16fd8e33', name='probabilityCol', doc='Column name for predicted class conditional probabilities. Note: Not all models output well-calibrated probability estimates! These probabilities should be treated as confidences, not precise probabilities.'): 'probability',\n",
       " Param(parent='GBTClassifier_7eec16fd8e33', name='rawPredictionCol', doc='raw prediction (a.k.a. confidence) column name.'): 'rawPrediction',\n",
       " Param(parent='GBTClassifier_7eec16fd8e33', name='seed', doc='random seed.'): -8418859477195641646,\n",
       " Param(parent='GBTClassifier_7eec16fd8e33', name='stepSize', doc='Step size (a.k.a. learning rate) in interval (0, 1] for shrinking the contribution of each estimator.'): 0.1,\n",
       " Param(parent='GBTClassifier_7eec16fd8e33', name='subsamplingRate', doc='Fraction of the training data used for learning each decision tree, in range (0, 1].'): 1.0,\n",
       " Param(parent='GBTClassifier_7eec16fd8e33', name='validationTol', doc='Threshold for stopping early when fit with validation is used. If the error rate on the validation input changes by less than the validationTol, then learning will stop early (before `maxIter`). This parameter is ignored when fit without validation is used.'): 0.01}"
      ]
     },
     "execution_count": 953,
     "metadata": {},
     "output_type": "execute_result"
    }
   ],
   "source": [
    "gbtModel.extractParamMap() "
   ]
  },
  {
   "cell_type": "code",
   "execution_count": 954,
   "id": "2b7acb33",
   "metadata": {
    "scrolled": true
   },
   "outputs": [
    {
     "name": "stdout",
     "output_type": "stream",
     "text": [
      "cacheNodeIds: If false, the algorithm will pass trees to executors to match instances with nodes. If true, the algorithm will cache node IDs for each instance. Caching can speed up training of deeper trees. Users can set how often should the cache be checkpointed or disable it by setting checkpointInterval. (default: False)\n",
      "checkpointInterval: set checkpoint interval (>= 1) or disable checkpoint (-1). E.g. 10 means that the cache will get checkpointed every 10 iterations. Note: this setting will be ignored if the checkpoint directory is not set in the SparkContext. (default: 10)\n",
      "featureSubsetStrategy: The number of features to consider for splits at each tree node. Supported options: 'auto' (choose automatically for task: If numTrees == 1, set to 'all'. If numTrees > 1 (forest), set to 'sqrt' for classification and to 'onethird' for regression), 'all' (use all features), 'onethird' (use 1/3 of the features), 'sqrt' (use sqrt(number of features)), 'log2' (use log2(number of features)), 'n' (when n is in the range (0, 1.0], use n * number of features. When n is in the range (1, number of features), use n features). default = 'auto' (default: all)\n",
      "featuresCol: features column name. (default: features, current: features)\n",
      "impurity: Criterion used for information gain calculation (case-insensitive). Supported options: variance (default: variance)\n",
      "labelCol: label column name. (default: label, current: Leave_index)\n",
      "leafCol: Leaf indices column name. Predicted leaf index of each instance in each tree by preorder. (default: )\n",
      "lossType: Loss function which GBT tries to minimize (case-insensitive). Supported options: logistic (default: logistic)\n",
      "maxBins: Max number of bins for discretizing continuous features.  Must be >=2 and >= number of categories for any categorical feature. (default: 32)\n",
      "maxDepth: Maximum depth of the tree. (>= 0) E.g., depth 0 means 1 leaf node; depth 1 means 1 internal node + 2 leaf nodes. Must be in range [0, 30]. (default: 5)\n",
      "maxIter: max number of iterations (>= 0). (default: 20)\n",
      "maxMemoryInMB: Maximum memory in MB allocated to histogram aggregation. If too small, then 1 node will be split per iteration, and its aggregates may exceed this size. (default: 256)\n",
      "minInfoGain: Minimum information gain for a split to be considered at a tree node. (default: 0.0)\n",
      "minInstancesPerNode: Minimum number of instances each child must have after split. If a split causes the left or right child to have fewer than minInstancesPerNode, the split will be discarded as invalid. Should be >= 1. (default: 1)\n",
      "minWeightFractionPerNode: Minimum fraction of the weighted sample count that each child must have after split. If a split causes the fraction of the total weight in the left or right child to be less than minWeightFractionPerNode, the split will be discarded as invalid. Should be in interval [0.0, 0.5). (default: 0.0)\n",
      "predictionCol: prediction column name. (default: prediction)\n",
      "probabilityCol: Column name for predicted class conditional probabilities. Note: Not all models output well-calibrated probability estimates! These probabilities should be treated as confidences, not precise probabilities. (default: probability)\n",
      "rawPredictionCol: raw prediction (a.k.a. confidence) column name. (default: rawPrediction)\n",
      "seed: random seed. (default: -8418859477195641646)\n",
      "stepSize: Step size (a.k.a. learning rate) in interval (0, 1] for shrinking the contribution of each estimator. (default: 0.1)\n",
      "subsamplingRate: Fraction of the training data used for learning each decision tree, in range (0, 1]. (default: 1.0)\n",
      "thresholds: Thresholds in multi-class classification to adjust the probability of predicting each class. Array must have length equal to the number of classes, with values > 0, excepting that at most one value may be 0. The class with largest value p/t is predicted, where p is the original probability of that class and t is the class's threshold. (undefined)\n",
      "validationIndicatorCol: name of the column that indicates whether each row is for training or for validation. False indicates training; true indicates validation. (undefined)\n",
      "validationTol: Threshold for stopping early when fit with validation is used. If the error rate on the validation input changes by less than the validationTol, then learning will stop early (before `maxIter`). This parameter is ignored when fit without validation is used. (default: 0.01)\n",
      "weightCol: weight column name. If this is not set or empty, we treat all instance weights as 1.0. (undefined)\n"
     ]
    }
   ],
   "source": [
    "print(gbtModel.explainParams())"
   ]
  },
  {
   "cell_type": "markdown",
   "id": "a421214e",
   "metadata": {},
   "source": [
    "<span style=\"font-family:Comic Sans MS; font-size:1em;color:black\">\n",
    "En este modelo tambien podemos observar la importancia de las varibales como en el RF de a siguiente manera: </span>\n",
    " \n",
    "\n",
    "\n",
    "\n",
    "\n"
   ]
  },
  {
   "cell_type": "code",
   "execution_count": 955,
   "id": "409e2fa3",
   "metadata": {},
   "outputs": [
    {
     "data": {
      "text/plain": [
       "SparseVector(7, {0: 0.3491, 1: 0.2216, 2: 0.0762, 3: 0.1103, 4: 0.0627, 5: 0.0313, 6: 0.1489})"
      ]
     },
     "execution_count": 955,
     "metadata": {},
     "output_type": "execute_result"
    }
   ],
   "source": [
    "gbtModel.featureImportances"
   ]
  },
  {
   "cell_type": "markdown",
   "id": "e506ec3b",
   "metadata": {},
   "source": [
    "<span style=\"font-family:Comic Sans MS; font-size:1em;color:black\">\n",
    "\n",
    "Aqui en el GB, podemos observar que la importancia de las variables no son tan diferentes al del RF, ya que la nº 0 también destaca sobre las demás pero en este algoritmo en menor magnitud  </span>\n",
    " \n",
    "\n",
    "\n",
    "\n"
   ]
  },
  {
   "cell_type": "code",
   "execution_count": 998,
   "id": "2cc51feb",
   "metadata": {},
   "outputs": [],
   "source": [
    "from pyspark.ml. feature import PCA\n",
    "pca = PCA(k=5, inputCol=\"features\", outputCol=\"pcafeatures\")\n",
    "pca_model=pca.fit(df3_train)\n",
    "pca_training_data=pca_model.transform(df3_train)\n",
    "pca_test_data=pca_model.transform(df3_test)\n",
    "\n",
    "pca_gb =GBTClassifier(labelCol=\"Leave_index\", featuresCol=\"pcafeatures\")\n",
    "pca_gb_model=pca_gb.fit(pca_training_data)\n",
    "pca_predictions=pca_gb_model.transform(pca_test_data)\n",
    "\n"
   ]
  },
  {
   "cell_type": "code",
   "execution_count": 999,
   "id": "2875f116",
   "metadata": {},
   "outputs": [
    {
     "name": "stdout",
     "output_type": "stream",
     "text": [
      "0.8384400417796349\n"
     ]
    }
   ],
   "source": [
    "# evaluamos el modelo llevado a cabo\n",
    "import pyspark.ml.evaluation as ev\n",
    "\n",
    "pca_evaluator = ev.BinaryClassificationEvaluator(\n",
    "    rawPredictionCol='probability', \n",
    "    labelCol='Leave_index')\n",
    "\n",
    "print(pca_evaluator.evaluate(pca_predictions, {pca_evaluator.metricName: 'areaUnderROC'}))"
   ]
  },
  {
   "cell_type": "markdown",
   "id": "a6f6f868",
   "metadata": {},
   "source": [
    "**<center><span style=\"font-family:Cooper Black; font-size:2em;color:blue\">EXTRACCIÓN DE CARACTERÍSTICAS</span> </center>**\n"
   ]
  },
  {
   "cell_type": "markdown",
   "id": "34b109ab",
   "metadata": {},
   "source": [
    "<span style=\"font-family:Comic Sans MS; font-size:1em;color:black\">\n",
    "Para la extracción de características vamos a usar el método ChiSqSelector que se utiliza para seleccionar características (reducción de dimensionalidad) mediante la prueba de chi-cuadrado  </span>\n",
    " \n",
    "\n",
    "\n",
    "\n"
   ]
  },
  {
   "cell_type": "code",
   "execution_count": 1000,
   "id": "8e29d2cc",
   "metadata": {},
   "outputs": [],
   "source": [
    "from pyspark.ml.feature import ChiSqSelector\n",
    "from pyspark.ml.linalg import Vectors\n",
    "\n",
    "\n",
    "chi =ChiSqSelector(numTopFeatures=4, featuresCol=\"features\", outputCol=\"features_chi\", labelCol=\"Leave_index\")\n",
    "\n",
    "chi_model = chi.fit(df3)\n",
    "df4=chi_model.transform(df3)\n",
    "\n"
   ]
  },
  {
   "cell_type": "markdown",
   "id": "1d1f4707",
   "metadata": {},
   "source": [
    "Las siguientes celda muestra las 4 características más significativas de nuestro dataset"
   ]
  },
  {
   "cell_type": "code",
   "execution_count": 1001,
   "id": "a5b271c4",
   "metadata": {},
   "outputs": [
    {
     "data": {
      "text/plain": [
       "[0, 1, 4, 6]"
      ]
     },
     "execution_count": 1001,
     "metadata": {},
     "output_type": "execute_result"
    }
   ],
   "source": [
    "chi_model.selectedFeatures"
   ]
  },
  {
   "cell_type": "code",
   "execution_count": 1003,
   "id": "aa4c9021",
   "metadata": {},
   "outputs": [],
   "source": [
    "variables =['JoiningYear',\n",
    "                    'PaymentTier',\n",
    "                    'Age',\n",
    "                    'ExperienceInCurrentDomain_index',\n",
    "                     'Gender_index',\n",
    "                     'EverBenched_index',\n",
    "                     'Education_index',\n",
    "                     ]"
   ]
  },
  {
   "cell_type": "markdown",
   "id": "5bc6a409",
   "metadata": {},
   "source": [
    "En la siguiente celda mostramos el nombre concreto de las variables que anteriormente habíamos dicho que eran las más características"
   ]
  },
  {
   "cell_type": "code",
   "execution_count": 1004,
   "id": "fb065295",
   "metadata": {},
   "outputs": [
    {
     "data": {
      "text/plain": [
       "['JoiningYear', 'PaymentTier', 'Gender_index', 'Education_index']"
      ]
     },
     "execution_count": 1004,
     "metadata": {},
     "output_type": "execute_result"
    }
   ],
   "source": [
    "string_colums = [variables[x] for x in chi_model.selectedFeatures]\n",
    "string_colums"
   ]
  },
  {
   "cell_type": "code",
   "execution_count": 1002,
   "id": "861ff5a0",
   "metadata": {},
   "outputs": [
    {
     "name": "stdout",
     "output_type": "stream",
     "text": [
      "+-----------+---------+-----------+---+------------+-----------------+---------------+-------------------------------+-----------+--------------------+--------------------+\n",
      "|JoiningYear|     City|PaymentTier|Age|Gender_index|EverBenched_index|Education_index|ExperienceInCurrentDomain_index|Leave_index|            features|        features_chi|\n",
      "+-----------+---------+-----------+---+------------+-----------------+---------------+-------------------------------+-----------+--------------------+--------------------+\n",
      "|       2017|Bangalore|          3| 34|         0.0|              0.0|            0.0|                            5.0|        0.0|[2017.0,3.0,34.0,...|[2017.0,3.0,0.0,0.0]|\n",
      "|       2013|     Pune|          1| 28|         1.0|              0.0|            0.0|                            3.0|        1.0|[2013.0,1.0,28.0,...|[2013.0,1.0,1.0,0.0]|\n",
      "|       2014|New Delhi|          3| 38|         1.0|              0.0|            0.0|                            0.0|        0.0|[2014.0,3.0,38.0,...|[2014.0,3.0,1.0,0.0]|\n",
      "|       2016|Bangalore|          3| 27|         0.0|              0.0|            1.0|                            2.0|        1.0|[2016.0,3.0,27.0,...|[2016.0,3.0,0.0,1.0]|\n",
      "|       2017|     Pune|          3| 24|         0.0|              1.0|            1.0|                            0.0|        1.0|[2017.0,3.0,24.0,...|[2017.0,3.0,0.0,1.0]|\n",
      "|       2016|Bangalore|          3| 22|         0.0|              0.0|            0.0|                            5.0|        0.0|[2016.0,3.0,22.0,...|[2016.0,3.0,0.0,0.0]|\n",
      "|       2015|New Delhi|          3| 38|         0.0|              0.0|            0.0|                            5.0|        0.0|[2015.0,3.0,38.0,...|[2015.0,3.0,0.0,0.0]|\n",
      "|       2016|Bangalore|          3| 34|         1.0|              0.0|            0.0|                            0.0|        1.0|[2016.0,3.0,34.0,...|[2016.0,3.0,1.0,0.0]|\n",
      "|       2016|     Pune|          3| 23|         0.0|              0.0|            0.0|                            4.0|        0.0|[2016.0,3.0,23.0,...|[2016.0,3.0,0.0,0.0]|\n",
      "|       2017|New Delhi|          2| 37|         0.0|              0.0|            1.0|                            0.0|        0.0|[2017.0,2.0,37.0,...|[2017.0,2.0,0.0,1.0]|\n",
      "|       2012|Bangalore|          3| 27|         0.0|              0.0|            1.0|                            2.0|        1.0|[2012.0,3.0,27.0,...|[2012.0,3.0,0.0,1.0]|\n",
      "|       2016|     Pune|          3| 34|         0.0|              0.0|            0.0|                            3.0|        0.0|[2016.0,3.0,34.0,...|[2016.0,3.0,0.0,0.0]|\n",
      "|       2018|     Pune|          3| 32|         0.0|              1.0|            0.0|                            2.0|        1.0|[2018.0,3.0,32.0,...|[2018.0,3.0,0.0,0.0]|\n",
      "|       2016|Bangalore|          3| 39|         0.0|              0.0|            0.0|                            0.0|        0.0|(7,[0,1,2],[2016....|(4,[0,1],[2016.0,...|\n",
      "|       2012|Bangalore|          3| 37|         0.0|              0.0|            0.0|                            1.0|        0.0|[2012.0,3.0,37.0,...|[2012.0,3.0,0.0,0.0]|\n",
      "|       2017|Bangalore|          1| 29|         0.0|              0.0|            0.0|                            3.0|        0.0|[2017.0,1.0,29.0,...|[2017.0,1.0,0.0,0.0]|\n",
      "|       2014|Bangalore|          3| 34|         1.0|              0.0|            0.0|                            0.0|        0.0|[2014.0,3.0,34.0,...|[2014.0,3.0,1.0,0.0]|\n",
      "|       2014|     Pune|          3| 34|         0.0|              0.0|            0.0|                            1.0|        0.0|[2014.0,3.0,34.0,...|[2014.0,3.0,0.0,0.0]|\n",
      "|       2015|     Pune|          2| 30|         1.0|              0.0|            0.0|                            5.0|        1.0|[2015.0,2.0,30.0,...|[2015.0,2.0,1.0,0.0]|\n",
      "|       2016|New Delhi|          2| 22|         1.0|              0.0|            0.0|                            5.0|        1.0|[2016.0,2.0,22.0,...|[2016.0,2.0,1.0,0.0]|\n",
      "+-----------+---------+-----------+---+------------+-----------------+---------------+-------------------------------+-----------+--------------------+--------------------+\n",
      "only showing top 20 rows\n",
      "\n"
     ]
    }
   ],
   "source": [
    "df4.show()"
   ]
  },
  {
   "cell_type": "code",
   "execution_count": 1005,
   "id": "b0a3971e",
   "metadata": {},
   "outputs": [
    {
     "data": {
      "text/plain": [
       "DenseVector([45.4194, 1993.3755])"
      ]
     },
     "execution_count": 1005,
     "metadata": {},
     "output_type": "execute_result"
    }
   ],
   "source": [
    "pca = PCA(k=2, inputCol=\"features\", outputCol=\"pca_features\")\n",
    "model = pca.fit(df3)\n",
    "model.transform(df3).collect()[0].pca_features"
   ]
  },
  {
   "cell_type": "markdown",
   "id": "1a6f8ef0",
   "metadata": {},
   "source": [
    "**<center><span style=\"font-family:Cooper Black; font-size:2em;color:blue\">BALANCEO</span> </center>**"
   ]
  },
  {
   "cell_type": "code",
   "execution_count": 962,
   "id": "1b978284",
   "metadata": {},
   "outputs": [
    {
     "data": {
      "image/png": "[encoded data removed]",
      "text/plain": [
       "<Figure size 432x288 with 1 Axes>"
      ]
     },
     "metadata": {},
     "output_type": "display_data"
    }
   ],
   "source": [
    "responses = df3.groupBy('Leave_index').count().collect()\n",
    "categories = [i[0] for i in responses]\n",
    "counts = [i[1] for i in responses]\n",
    "ind = np.array(range(len(categories)))\n",
    "width = 0.5\n",
    "plt.bar(ind, counts, width=width, color='r')\n",
    "plt.ylabel('counts')\n",
    "plt.title('label distribution')\n",
    "plt.xticks(ind + width/2., categories)\n",
    "plt.show()"
   ]
  },
  {
   "cell_type": "markdown",
   "id": "6552da63",
   "metadata": {},
   "source": [
    "<span style=\"font-family:Comic Sans MS; font-size:1em;color:black\">\n",
    "Como podemos observar en la anterior gráfica nuestros datos no se encuentran balanceados, viendo así como el número de 0 es mucho mayor al número de 1, lo cual es bastante importante a la hora de entrenar nuestro modelo porque los resultados obtenidos no son del todo precisos </span>\n",
    " \n",
    "\n",
    "\n",
    "\n"
   ]
  },
  {
   "cell_type": "markdown",
   "id": "b4f3654a",
   "metadata": {},
   "source": [
    "**<center><span style=\"font-family:Cooper Black; font-size:2em;color:blue\">CURVA DE ROC</span> </center>**"
   ]
  },
  {
   "cell_type": "code",
   "execution_count": 963,
   "id": "e1fe2eb6",
   "metadata": {},
   "outputs": [],
   "source": [
    "fit = gbt.fit(df3_train)\n",
    "transformed1 = fit.transform(df3_test)"
   ]
  },
  {
   "cell_type": "code",
   "execution_count": 964,
   "id": "0ba93ee2",
   "metadata": {},
   "outputs": [],
   "source": [
    "fit = rf.fit(df3_train)\n",
    "transformed2 = fit.transform(df3_test)"
   ]
  },
  {
   "cell_type": "code",
   "execution_count": 965,
   "id": "8fc045a0",
   "metadata": {},
   "outputs": [],
   "source": [
    "fit = logr.fit(df3_train)\n",
    "transformed3 = fit.transform(df3_test)"
   ]
  },
  {
   "cell_type": "code",
   "execution_count": 966,
   "id": "2ab01b52",
   "metadata": {},
   "outputs": [],
   "source": [
    "\n",
    "from pyspark.mllib.evaluation import BinaryClassificationMetrics as metric\n",
    "results = transformed1.select(['rawPrediction', 'Leave_index'])\n",
    "\n",
    "## prepare score-label set\n",
    "results_collect = results.collect()\n",
    "results_list1 = [(float(i[0][0]), 1.0-float(i[1])) for i in results_collect]\n"
   ]
  },
  {
   "cell_type": "code",
   "execution_count": 967,
   "id": "10404e17",
   "metadata": {},
   "outputs": [],
   "source": [
    "from pyspark.mllib.evaluation import BinaryClassificationMetrics as metric\n",
    "results = transformed2.select(['rawPrediction', 'Leave_index'])\n",
    "\n",
    "## prepare score-label set\n",
    "results_collect = results.collect()\n",
    "results_list2 = [(float(i[0][0]), 1.0-float(i[1])) for i in results_collect]\n"
   ]
  },
  {
   "cell_type": "code",
   "execution_count": 968,
   "id": "3edbd649",
   "metadata": {},
   "outputs": [],
   "source": [
    "from pyspark.mllib.evaluation import BinaryClassificationMetrics as metric\n",
    "results = transformed3.select(['rawPrediction', 'Leave_index'])\n",
    "\n",
    "## prepare score-label set\n",
    "results_collect = results.collect()\n",
    "results_list3 = [(float(i[0][0]), 1.0-float(i[1])) for i in results_collect]\n"
   ]
  },
  {
   "cell_type": "code",
   "execution_count": 969,
   "id": "ec257560",
   "metadata": {},
   "outputs": [
    {
     "data": {
      "image/png": "[encoded data removed]",
      "text/plain": [
       "<Figure size 432x288 with 1 Axes>"
      ]
     },
     "metadata": {
      "needs_background": "light"
     },
     "output_type": "display_data"
    }
   ],
   "source": [
    "from sklearn.metrics import roc_curve, auc\n",
    "\n",
    "fpr = dict()\n",
    "tpr = dict()\n",
    "roc_auc = dict()\n",
    "\n",
    "y_test1 = [i[1] for i in results_list1]\n",
    "y_score1 = [i[0] for i in results_list1]\n",
    "y_test2 = [i[1] for i in results_list2]\n",
    "y_score2 = [i[0] for i in results_list2]\n",
    "y_test3 = [i[1] for i in results_list3]\n",
    "y_score3 = [i[0] for i in results_list3]\n",
    "\n",
    "fpr1, tpr1, _ = roc_curve(y_test1, y_score1)\n",
    "roc_auc1 = auc(fpr1, tpr1)\n",
    "fpr2, tpr2, _ = roc_curve(y_test2, y_score2)\n",
    "roc_auc2 = auc(fpr2, tpr2)\n",
    "fpr3, tpr3, _ = roc_curve(y_test3, y_score3)\n",
    "roc_auc3 = auc(fpr3, tpr3)\n",
    "\n",
    "\n",
    "%matplotlib inline\n",
    "plt.figure()\n",
    "plt.plot(fpr1, tpr1, label='ROC curve GBT(area = %0.5f)' % roc_auc1)\n",
    "plt.plot(fpr2, tpr2, label='ROC curve RF (area = %0.5f)' % roc_auc2)\n",
    "plt.plot(fpr3, tpr3, label='ROC curve LGR (area = %0.5f)' % roc_auc3)\n",
    "plt.plot([0, 1], [0, 1], 'k--')\n",
    "plt.xlim([0.0, 1.0])\n",
    "plt.ylim([0.0, 1.05])\n",
    "plt.xlabel('False Positive Rate')\n",
    "plt.ylabel('True Positive Rate')\n",
    "plt.title('CURVA DE ROC')\n",
    "plt.legend(loc=\"lower right\")\n",
    "plt.show()"
   ]
  },
  {
   "cell_type": "markdown",
   "id": "6453880c",
   "metadata": {},
   "source": [
    "<span style=\"font-family:Comic Sans MS; font-size:1em;color:black\">\n",
    "    \n",
    "CONCLUSIONES\n",
    "\n",
    "Como se puede observar en la gráfica anterior los dos mejores modelos son el de Gradient Boosting y el de Random Forest donde no hay casi diferencia entre ambos, son practicamente iguales tanto en especifidad como en sensibilidad.\n",
    "\n",
    "    \n",
    "    \n",
    "REGRESIÓN LOGISTICA\n",
    "    \n",
    "Nuestro modelo de Regresión logística alcanza una precisión óptima tras la estandarización de variables y el PCA, en la cual aplicamos una k igual 4. Escogemos este valor debido a la extracción de variables, con la que vemos que las variables más significativas de nuestro Dataset son el año de incorporación a la empresa, el sueldo del empleado, el género y el nivel de estudio. La precisión obtenida es del 70.21%, sin embargo para asegurarnos de que no exista overfitting hemos decidido realizar una validación cruzada, reduciendo la precisió a un 68.10%\n",
    "\n",
    "\n",
    "RANDOM FOREST\n",
    "    \n",
    " - El Random Forest presenta un areaUnderROC = 83.83% , es un buen resultado, comparado con el obtenido en la regresión logística. Este es uno de los principales algoritmos más empleados, por lo que creemos que si modificamos el número de árboles empleado (en este resultado hemos empleado el número base que son 20) entre 50 y 100 podemos llegar a obtener los mismos resultados o mejores. \n",
    "Además, este algorimo nos permite ver la importancia de las feature, lo cual se asemeja bastante a la informacion que podemos llegar a tener mediante el PCA\n",
    "\n",
    "GRADIENT BOOSTING\n",
    "    \n",
    " - El resultado del algoritmo es areaUnderROC = 83.845% , este algoritmo también presenta la misma funcionalidad que el RF, sin embargo es más preciso, ya que no basa el resultado final en la media de los resultados de cada árbol, sino que también modifica el resultado de cada árbol individual mediante la reducción de gradiente.\n",
    "</span>\n",
    " \n",
    "\n",
    "\n"
   ]
  }
 ],
 "metadata": {
  "kernelspec": {
   "display_name": "Python 3",
   "language": "python",
   "name": "python3"
  },
  "language_info": {
   "codemirror_mode": {
    "name": "ipython",
    "version": 3
   },
   "file_extension": ".py",
   "mimetype": "text/x-python",
   "name": "python",
   "nbconvert_exporter": "python",
   "pygments_lexer": "ipython3",
   "version": "3.8.8"
  }
 },
 "nbformat": 4,
 "nbformat_minor": 5
}
